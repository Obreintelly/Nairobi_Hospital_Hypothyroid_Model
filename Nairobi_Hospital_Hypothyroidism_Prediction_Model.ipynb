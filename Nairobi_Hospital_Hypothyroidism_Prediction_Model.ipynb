{
  "nbformat": 4,
  "nbformat_minor": 0,
  "metadata": {
    "colab": {
      "name": "Nairobi_Hospital_Hypothyroidism_Prediction_Model.ipynb",
      "provenance": [],
      "authorship_tag": "ABX9TyPUskCh0Ya699vkuZIF34ux",
      "include_colab_link": true
    },
    "kernelspec": {
      "name": "python3",
      "display_name": "Python 3"
    },
    "language_info": {
      "name": "python"
    }
  },
  "cells": [
    {
      "cell_type": "markdown",
      "metadata": {
        "id": "view-in-github",
        "colab_type": "text"
      },
      "source": [
        "<a href=\"https://colab.research.google.com/github/Obreintelly/Nairobi_Hospital_Hypothyroid_Model/blob/main/Nairobi_Hospital_Hypothyroidism_Prediction_Model.ipynb\" target=\"_parent\"><img src=\"https://colab.research.google.com/assets/colab-badge.svg\" alt=\"Open In Colab\"/></a>"
      ]
    },
    {
      "cell_type": "markdown",
      "metadata": {
        "id": "ctrmcv6Tpnx8"
      },
      "source": [
        "# **1. Introduction and Overview**"
      ]
    },
    {
      "cell_type": "code",
      "metadata": {
        "id": "5B9NvOKYo52J"
      },
      "source": [
        "#Importing Pandas library\n",
        "import pandas as pd\n",
        "\n",
        "#Importing Numpy Library\n",
        "import numpy as np\n",
        "\n",
        "#Importing Matplotlib Library\n",
        "\n",
        "import matplotlib.pyplot as plt\n",
        "\n",
        "#Importing Seaborn Library\n",
        "\n",
        "import seaborn as sns\n",
        "\n",
        "sns.set_theme()\n",
        "\n",
        "#sns.set_palette('bright')\n",
        "\n",
        "\n",
        "#Importing Scipy\n",
        "import scipy\n",
        "#Importing SKLearn\n",
        "import sklearn\n",
        "\n",
        "import warnings\n",
        "warnings.filterwarnings(\"ignore\")"
      ],
      "execution_count": null,
      "outputs": []
    }
  ]
}