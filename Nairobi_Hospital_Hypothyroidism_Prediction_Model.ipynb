{
  "nbformat": 4,
  "nbformat_minor": 0,
  "metadata": {
    "colab": {
      "name": "Nairobi_Hospital_Hypothyroidism_Prediction_Model.ipynb",
      "provenance": [],
      "collapsed_sections": [],
      "authorship_tag": "ABX9TyNvLISUjAy/wO+8sWaYyDg1",
      "include_colab_link": true
    },
    "kernelspec": {
      "name": "python3",
      "display_name": "Python 3"
    },
    "language_info": {
      "name": "python"
    }
  },
  "cells": [
    {
      "cell_type": "markdown",
      "metadata": {
        "id": "view-in-github",
        "colab_type": "text"
      },
      "source": [
        "<a href=\"https://colab.research.google.com/github/Obreintelly/Nairobi_Hospital_Hypothyroid_Model/blob/main/Nairobi_Hospital_Hypothyroidism_Prediction_Model.ipynb\" target=\"_parent\"><img src=\"https://colab.research.google.com/assets/colab-badge.svg\" alt=\"Open In Colab\"/></a>"
      ]
    },
    {
      "cell_type": "markdown",
      "metadata": {
        "id": "ctrmcv6Tpnx8"
      },
      "source": [
        "# **1. Introduction and Overview**"
      ]
    },
    {
      "cell_type": "markdown",
      "metadata": {
        "id": "1AQf1Cy-XhP9"
      },
      "source": [
        "**a) Research Question**\n",
        "\n",
        "In this study, we will be analyzing Hypothyrodism data with a view to building a model that determines whether given a patient's symptoms, they have hypothyroid\n",
        "\n",
        "\n",
        "**b) Defining the Success Metric**\n",
        "\n",
        "The success metric for this research will be a classifier model with the highest accuracy level\n",
        "\n",
        "**c) Understanding the Context**\n",
        "\n",
        "Nairobi Hospital is a premier institution providing top class health care services in Kenya. As a health institution, understanding disease patterns and trends is key in providing targeted, expeditious and effective treatment. This prediction model would go a long way in meeting this important goal for Nairobi Hospotal. \n",
        "\n",
        "**d) Experimetal Design**\n",
        "\n",
        "\n",
        "a) Data Cleaning/Preparation\n",
        "\n",
        "b) Exploratory Data Analysis\n",
        "\n",
        "c) Building the Models\n",
        "\n",
        "d)Conclusions\n",
        "\n",
        "\n",
        "**e) Data Report**\n",
        "\n",
        "More details are captured in the attached data report: https://drive.google.com/file/d/1s-qhcn1_6ZU51h3_ynTtVQKRl0p8wB5e/view?usp=sharing"
      ]
    },
    {
      "cell_type": "markdown",
      "metadata": {
        "id": "-903eQnzdq6s"
      },
      "source": [
        "# **2. Importing Libraries/ Loading Dataset**"
      ]
    },
    {
      "cell_type": "code",
      "metadata": {
        "id": "5B9NvOKYo52J"
      },
      "source": [
        "#Importing Pandas library\n",
        "import pandas as pd\n",
        "\n",
        "#Importing Numpy Library\n",
        "import numpy as np\n",
        "\n",
        "#Importing Matplotlib Library\n",
        "\n",
        "import matplotlib.pyplot as plt\n",
        "\n",
        "#Importing Seaborn Library\n",
        "\n",
        "import seaborn as sns\n",
        "\n",
        "sns.set_theme()\n",
        "\n",
        "#sns.set_palette('bright')\n",
        "\n",
        "\n",
        "#Importing Scipy\n",
        "import scipy\n",
        "#Importing SKLearn\n",
        "import sklearn\n",
        "\n",
        "import warnings\n",
        "warnings.filterwarnings(\"ignore\")"
      ],
      "execution_count": 131,
      "outputs": []
    },
    {
      "cell_type": "markdown",
      "metadata": {
        "id": "KMhl-zNmhmo4"
      },
      "source": [
        "# Loading Our Dataset"
      ]
    },
    {
      "cell_type": "code",
      "metadata": {
        "id": "kP-cSrmlhljA"
      },
      "source": [
        "#Loading Our Dataset and assigning it as df\n",
        "df = pd.read_csv('/content/hypothyroid.csv')\n"
      ],
      "execution_count": 132,
      "outputs": []
    },
    {
      "cell_type": "markdown",
      "metadata": {
        "id": "363XZAmpikiJ"
      },
      "source": [
        "# Previewing Our Dataset"
      ]
    },
    {
      "cell_type": "code",
      "metadata": {
        "colab": {
          "base_uri": "https://localhost:8080/",
          "height": 224
        },
        "id": "gtFagSJ7ikJE",
        "outputId": "c5115b57-4255-4d35-f14c-c06fa0e49996"
      },
      "source": [
        "#Displaying the first 5 rows of our dataset\n",
        "df.head()"
      ],
      "execution_count": 133,
      "outputs": [
        {
          "output_type": "execute_result",
          "data": {
            "text/html": [
              "<div>\n",
              "<style scoped>\n",
              "    .dataframe tbody tr th:only-of-type {\n",
              "        vertical-align: middle;\n",
              "    }\n",
              "\n",
              "    .dataframe tbody tr th {\n",
              "        vertical-align: top;\n",
              "    }\n",
              "\n",
              "    .dataframe thead th {\n",
              "        text-align: right;\n",
              "    }\n",
              "</style>\n",
              "<table border=\"1\" class=\"dataframe\">\n",
              "  <thead>\n",
              "    <tr style=\"text-align: right;\">\n",
              "      <th></th>\n",
              "      <th>status</th>\n",
              "      <th>age</th>\n",
              "      <th>sex</th>\n",
              "      <th>on_thyroxine</th>\n",
              "      <th>query_on_thyroxine</th>\n",
              "      <th>on_antithyroid_medication</th>\n",
              "      <th>thyroid_surgery</th>\n",
              "      <th>query_hypothyroid</th>\n",
              "      <th>query_hyperthyroid</th>\n",
              "      <th>pregnant</th>\n",
              "      <th>sick</th>\n",
              "      <th>tumor</th>\n",
              "      <th>lithium</th>\n",
              "      <th>goitre</th>\n",
              "      <th>TSH_measured</th>\n",
              "      <th>TSH</th>\n",
              "      <th>T3_measured</th>\n",
              "      <th>T3</th>\n",
              "      <th>TT4_measured</th>\n",
              "      <th>TT4</th>\n",
              "      <th>T4U_measured</th>\n",
              "      <th>T4U</th>\n",
              "      <th>FTI_measured</th>\n",
              "      <th>FTI</th>\n",
              "      <th>TBG_measured</th>\n",
              "      <th>TBG</th>\n",
              "    </tr>\n",
              "  </thead>\n",
              "  <tbody>\n",
              "    <tr>\n",
              "      <th>0</th>\n",
              "      <td>hypothyroid</td>\n",
              "      <td>72</td>\n",
              "      <td>M</td>\n",
              "      <td>f</td>\n",
              "      <td>f</td>\n",
              "      <td>f</td>\n",
              "      <td>f</td>\n",
              "      <td>f</td>\n",
              "      <td>f</td>\n",
              "      <td>f</td>\n",
              "      <td>f</td>\n",
              "      <td>f</td>\n",
              "      <td>f</td>\n",
              "      <td>f</td>\n",
              "      <td>y</td>\n",
              "      <td>30</td>\n",
              "      <td>y</td>\n",
              "      <td>0.6</td>\n",
              "      <td>y</td>\n",
              "      <td>15</td>\n",
              "      <td>y</td>\n",
              "      <td>1.48</td>\n",
              "      <td>y</td>\n",
              "      <td>10</td>\n",
              "      <td>n</td>\n",
              "      <td>?</td>\n",
              "    </tr>\n",
              "    <tr>\n",
              "      <th>1</th>\n",
              "      <td>hypothyroid</td>\n",
              "      <td>15</td>\n",
              "      <td>F</td>\n",
              "      <td>t</td>\n",
              "      <td>f</td>\n",
              "      <td>f</td>\n",
              "      <td>f</td>\n",
              "      <td>f</td>\n",
              "      <td>f</td>\n",
              "      <td>f</td>\n",
              "      <td>f</td>\n",
              "      <td>f</td>\n",
              "      <td>f</td>\n",
              "      <td>f</td>\n",
              "      <td>y</td>\n",
              "      <td>145</td>\n",
              "      <td>y</td>\n",
              "      <td>1.7</td>\n",
              "      <td>y</td>\n",
              "      <td>19</td>\n",
              "      <td>y</td>\n",
              "      <td>1.13</td>\n",
              "      <td>y</td>\n",
              "      <td>17</td>\n",
              "      <td>n</td>\n",
              "      <td>?</td>\n",
              "    </tr>\n",
              "    <tr>\n",
              "      <th>2</th>\n",
              "      <td>hypothyroid</td>\n",
              "      <td>24</td>\n",
              "      <td>M</td>\n",
              "      <td>f</td>\n",
              "      <td>f</td>\n",
              "      <td>f</td>\n",
              "      <td>f</td>\n",
              "      <td>f</td>\n",
              "      <td>f</td>\n",
              "      <td>f</td>\n",
              "      <td>f</td>\n",
              "      <td>f</td>\n",
              "      <td>f</td>\n",
              "      <td>f</td>\n",
              "      <td>y</td>\n",
              "      <td>0</td>\n",
              "      <td>y</td>\n",
              "      <td>0.2</td>\n",
              "      <td>y</td>\n",
              "      <td>4</td>\n",
              "      <td>y</td>\n",
              "      <td>1</td>\n",
              "      <td>y</td>\n",
              "      <td>0</td>\n",
              "      <td>n</td>\n",
              "      <td>?</td>\n",
              "    </tr>\n",
              "    <tr>\n",
              "      <th>3</th>\n",
              "      <td>hypothyroid</td>\n",
              "      <td>24</td>\n",
              "      <td>F</td>\n",
              "      <td>f</td>\n",
              "      <td>f</td>\n",
              "      <td>f</td>\n",
              "      <td>f</td>\n",
              "      <td>f</td>\n",
              "      <td>f</td>\n",
              "      <td>f</td>\n",
              "      <td>f</td>\n",
              "      <td>f</td>\n",
              "      <td>f</td>\n",
              "      <td>f</td>\n",
              "      <td>y</td>\n",
              "      <td>430</td>\n",
              "      <td>y</td>\n",
              "      <td>0.4</td>\n",
              "      <td>y</td>\n",
              "      <td>6</td>\n",
              "      <td>y</td>\n",
              "      <td>1.04</td>\n",
              "      <td>y</td>\n",
              "      <td>6</td>\n",
              "      <td>n</td>\n",
              "      <td>?</td>\n",
              "    </tr>\n",
              "    <tr>\n",
              "      <th>4</th>\n",
              "      <td>hypothyroid</td>\n",
              "      <td>77</td>\n",
              "      <td>M</td>\n",
              "      <td>f</td>\n",
              "      <td>f</td>\n",
              "      <td>f</td>\n",
              "      <td>f</td>\n",
              "      <td>f</td>\n",
              "      <td>f</td>\n",
              "      <td>f</td>\n",
              "      <td>f</td>\n",
              "      <td>f</td>\n",
              "      <td>f</td>\n",
              "      <td>f</td>\n",
              "      <td>y</td>\n",
              "      <td>7.3</td>\n",
              "      <td>y</td>\n",
              "      <td>1.2</td>\n",
              "      <td>y</td>\n",
              "      <td>57</td>\n",
              "      <td>y</td>\n",
              "      <td>1.28</td>\n",
              "      <td>y</td>\n",
              "      <td>44</td>\n",
              "      <td>n</td>\n",
              "      <td>?</td>\n",
              "    </tr>\n",
              "  </tbody>\n",
              "</table>\n",
              "</div>"
            ],
            "text/plain": [
              "        status age sex on_thyroxine  ... FTI_measured FTI TBG_measured TBG\n",
              "0  hypothyroid  72   M            f  ...            y  10            n   ?\n",
              "1  hypothyroid  15   F            t  ...            y  17            n   ?\n",
              "2  hypothyroid  24   M            f  ...            y   0            n   ?\n",
              "3  hypothyroid  24   F            f  ...            y   6            n   ?\n",
              "4  hypothyroid  77   M            f  ...            y  44            n   ?\n",
              "\n",
              "[5 rows x 26 columns]"
            ]
          },
          "metadata": {
            "tags": []
          },
          "execution_count": 133
        }
      ]
    },
    {
      "cell_type": "code",
      "metadata": {
        "colab": {
          "base_uri": "https://localhost:8080/",
          "height": 224
        },
        "id": "RPSMQYV9iwnA",
        "outputId": "9af233c5-c50b-4d2a-a5aa-01d6d810cf72"
      },
      "source": [
        "#Displaying the last five rows in our dataset\n",
        "df.tail()"
      ],
      "execution_count": 134,
      "outputs": [
        {
          "output_type": "execute_result",
          "data": {
            "text/html": [
              "<div>\n",
              "<style scoped>\n",
              "    .dataframe tbody tr th:only-of-type {\n",
              "        vertical-align: middle;\n",
              "    }\n",
              "\n",
              "    .dataframe tbody tr th {\n",
              "        vertical-align: top;\n",
              "    }\n",
              "\n",
              "    .dataframe thead th {\n",
              "        text-align: right;\n",
              "    }\n",
              "</style>\n",
              "<table border=\"1\" class=\"dataframe\">\n",
              "  <thead>\n",
              "    <tr style=\"text-align: right;\">\n",
              "      <th></th>\n",
              "      <th>status</th>\n",
              "      <th>age</th>\n",
              "      <th>sex</th>\n",
              "      <th>on_thyroxine</th>\n",
              "      <th>query_on_thyroxine</th>\n",
              "      <th>on_antithyroid_medication</th>\n",
              "      <th>thyroid_surgery</th>\n",
              "      <th>query_hypothyroid</th>\n",
              "      <th>query_hyperthyroid</th>\n",
              "      <th>pregnant</th>\n",
              "      <th>sick</th>\n",
              "      <th>tumor</th>\n",
              "      <th>lithium</th>\n",
              "      <th>goitre</th>\n",
              "      <th>TSH_measured</th>\n",
              "      <th>TSH</th>\n",
              "      <th>T3_measured</th>\n",
              "      <th>T3</th>\n",
              "      <th>TT4_measured</th>\n",
              "      <th>TT4</th>\n",
              "      <th>T4U_measured</th>\n",
              "      <th>T4U</th>\n",
              "      <th>FTI_measured</th>\n",
              "      <th>FTI</th>\n",
              "      <th>TBG_measured</th>\n",
              "      <th>TBG</th>\n",
              "    </tr>\n",
              "  </thead>\n",
              "  <tbody>\n",
              "    <tr>\n",
              "      <th>3158</th>\n",
              "      <td>negative</td>\n",
              "      <td>58</td>\n",
              "      <td>F</td>\n",
              "      <td>f</td>\n",
              "      <td>f</td>\n",
              "      <td>f</td>\n",
              "      <td>f</td>\n",
              "      <td>f</td>\n",
              "      <td>f</td>\n",
              "      <td>f</td>\n",
              "      <td>f</td>\n",
              "      <td>f</td>\n",
              "      <td>f</td>\n",
              "      <td>f</td>\n",
              "      <td>y</td>\n",
              "      <td>5.8</td>\n",
              "      <td>y</td>\n",
              "      <td>1.7</td>\n",
              "      <td>y</td>\n",
              "      <td>86</td>\n",
              "      <td>y</td>\n",
              "      <td>0.91</td>\n",
              "      <td>y</td>\n",
              "      <td>95</td>\n",
              "      <td>n</td>\n",
              "      <td>?</td>\n",
              "    </tr>\n",
              "    <tr>\n",
              "      <th>3159</th>\n",
              "      <td>negative</td>\n",
              "      <td>29</td>\n",
              "      <td>F</td>\n",
              "      <td>f</td>\n",
              "      <td>f</td>\n",
              "      <td>f</td>\n",
              "      <td>f</td>\n",
              "      <td>f</td>\n",
              "      <td>f</td>\n",
              "      <td>f</td>\n",
              "      <td>f</td>\n",
              "      <td>f</td>\n",
              "      <td>f</td>\n",
              "      <td>f</td>\n",
              "      <td>y</td>\n",
              "      <td>0.8</td>\n",
              "      <td>y</td>\n",
              "      <td>1.8</td>\n",
              "      <td>y</td>\n",
              "      <td>99</td>\n",
              "      <td>y</td>\n",
              "      <td>1.01</td>\n",
              "      <td>y</td>\n",
              "      <td>98</td>\n",
              "      <td>n</td>\n",
              "      <td>?</td>\n",
              "    </tr>\n",
              "    <tr>\n",
              "      <th>3160</th>\n",
              "      <td>negative</td>\n",
              "      <td>77</td>\n",
              "      <td>M</td>\n",
              "      <td>f</td>\n",
              "      <td>f</td>\n",
              "      <td>f</td>\n",
              "      <td>f</td>\n",
              "      <td>f</td>\n",
              "      <td>f</td>\n",
              "      <td>f</td>\n",
              "      <td>f</td>\n",
              "      <td>f</td>\n",
              "      <td>f</td>\n",
              "      <td>f</td>\n",
              "      <td>y</td>\n",
              "      <td>1.2</td>\n",
              "      <td>y</td>\n",
              "      <td>0.6</td>\n",
              "      <td>y</td>\n",
              "      <td>71</td>\n",
              "      <td>y</td>\n",
              "      <td>0.68</td>\n",
              "      <td>y</td>\n",
              "      <td>104</td>\n",
              "      <td>n</td>\n",
              "      <td>?</td>\n",
              "    </tr>\n",
              "    <tr>\n",
              "      <th>3161</th>\n",
              "      <td>negative</td>\n",
              "      <td>74</td>\n",
              "      <td>F</td>\n",
              "      <td>f</td>\n",
              "      <td>f</td>\n",
              "      <td>f</td>\n",
              "      <td>f</td>\n",
              "      <td>f</td>\n",
              "      <td>f</td>\n",
              "      <td>f</td>\n",
              "      <td>f</td>\n",
              "      <td>f</td>\n",
              "      <td>f</td>\n",
              "      <td>f</td>\n",
              "      <td>y</td>\n",
              "      <td>1.3</td>\n",
              "      <td>y</td>\n",
              "      <td>0.1</td>\n",
              "      <td>y</td>\n",
              "      <td>65</td>\n",
              "      <td>y</td>\n",
              "      <td>0.48</td>\n",
              "      <td>y</td>\n",
              "      <td>137</td>\n",
              "      <td>n</td>\n",
              "      <td>?</td>\n",
              "    </tr>\n",
              "    <tr>\n",
              "      <th>3162</th>\n",
              "      <td>negative</td>\n",
              "      <td>56</td>\n",
              "      <td>F</td>\n",
              "      <td>t</td>\n",
              "      <td>f</td>\n",
              "      <td>f</td>\n",
              "      <td>f</td>\n",
              "      <td>f</td>\n",
              "      <td>f</td>\n",
              "      <td>f</td>\n",
              "      <td>f</td>\n",
              "      <td>f</td>\n",
              "      <td>f</td>\n",
              "      <td>f</td>\n",
              "      <td>y</td>\n",
              "      <td>0</td>\n",
              "      <td>y</td>\n",
              "      <td>1.8</td>\n",
              "      <td>y</td>\n",
              "      <td>139</td>\n",
              "      <td>y</td>\n",
              "      <td>0.97</td>\n",
              "      <td>y</td>\n",
              "      <td>143</td>\n",
              "      <td>n</td>\n",
              "      <td>?</td>\n",
              "    </tr>\n",
              "  </tbody>\n",
              "</table>\n",
              "</div>"
            ],
            "text/plain": [
              "        status age sex on_thyroxine  ... FTI_measured  FTI TBG_measured TBG\n",
              "3158  negative  58   F            f  ...            y   95            n   ?\n",
              "3159  negative  29   F            f  ...            y   98            n   ?\n",
              "3160  negative  77   M            f  ...            y  104            n   ?\n",
              "3161  negative  74   F            f  ...            y  137            n   ?\n",
              "3162  negative  56   F            t  ...            y  143            n   ?\n",
              "\n",
              "[5 rows x 26 columns]"
            ]
          },
          "metadata": {
            "tags": []
          },
          "execution_count": 134
        }
      ]
    },
    {
      "cell_type": "code",
      "metadata": {
        "colab": {
          "base_uri": "https://localhost:8080/"
        },
        "id": "E2ppVB8ajKch",
        "outputId": "384e7aca-455e-42c7-9239-bf376a907d16"
      },
      "source": [
        "# Checking size of Our Dataset\n",
        "print('Our Dataset has: {} Rows, {} Columns'.format(*df.shape))\n"
      ],
      "execution_count": 135,
      "outputs": [
        {
          "output_type": "stream",
          "text": [
            "Our Dataset has: 3163 Rows, 26 Columns\n"
          ],
          "name": "stdout"
        }
      ]
    },
    {
      "cell_type": "code",
      "metadata": {
        "colab": {
          "base_uri": "https://localhost:8080/"
        },
        "id": "fIXLf60ujBvB",
        "outputId": "a48d4c9f-4920-48c6-a9f7-50dce3ebb872"
      },
      "source": [
        "#Exploring Our columns further, checking for missing values and \n",
        "#the datatypes in our dataset\n",
        "df.info()"
      ],
      "execution_count": 136,
      "outputs": [
        {
          "output_type": "stream",
          "text": [
            "<class 'pandas.core.frame.DataFrame'>\n",
            "RangeIndex: 3163 entries, 0 to 3162\n",
            "Data columns (total 26 columns):\n",
            " #   Column                     Non-Null Count  Dtype \n",
            "---  ------                     --------------  ----- \n",
            " 0   status                     3163 non-null   object\n",
            " 1   age                        3163 non-null   object\n",
            " 2   sex                        3163 non-null   object\n",
            " 3   on_thyroxine               3163 non-null   object\n",
            " 4   query_on_thyroxine         3163 non-null   object\n",
            " 5   on_antithyroid_medication  3163 non-null   object\n",
            " 6   thyroid_surgery            3163 non-null   object\n",
            " 7   query_hypothyroid          3163 non-null   object\n",
            " 8   query_hyperthyroid         3163 non-null   object\n",
            " 9   pregnant                   3163 non-null   object\n",
            " 10  sick                       3163 non-null   object\n",
            " 11  tumor                      3163 non-null   object\n",
            " 12  lithium                    3163 non-null   object\n",
            " 13  goitre                     3163 non-null   object\n",
            " 14  TSH_measured               3163 non-null   object\n",
            " 15  TSH                        3163 non-null   object\n",
            " 16  T3_measured                3163 non-null   object\n",
            " 17  T3                         3163 non-null   object\n",
            " 18  TT4_measured               3163 non-null   object\n",
            " 19  TT4                        3163 non-null   object\n",
            " 20  T4U_measured               3163 non-null   object\n",
            " 21  T4U                        3163 non-null   object\n",
            " 22  FTI_measured               3163 non-null   object\n",
            " 23  FTI                        3163 non-null   object\n",
            " 24  TBG_measured               3163 non-null   object\n",
            " 25  TBG                        3163 non-null   object\n",
            "dtypes: object(26)\n",
            "memory usage: 642.6+ KB\n"
          ],
          "name": "stdout"
        }
      ]
    },
    {
      "cell_type": "markdown",
      "metadata": {
        "id": "KaTz-PFHz53F"
      },
      "source": [
        "# **3. Data Cleaning**\n",
        "\n",
        "In this section, before embarking on data analysis, we will first ensure that our data complies with the following Data Science Principles:\n",
        "\n",
        "\n",
        "Validity\n",
        "\n",
        "Accuracy\n",
        "\n",
        "Consistency\n",
        "\n",
        "Completeness\n",
        "\n",
        "Uniformity\n",
        "\n"
      ]
    },
    {
      "cell_type": "markdown",
      "metadata": {
        "id": "KcbCQtWTQQAQ"
      },
      "source": [
        "# **Accuracy/Validity**"
      ]
    },
    {
      "cell_type": "code",
      "metadata": {
        "colab": {
          "base_uri": "https://localhost:8080/"
        },
        "id": "OLVHUr-xjHTR",
        "outputId": "3a5b06ab-1ee4-41c9-8d2f-178e9be01291"
      },
      "source": [
        "#What unique values do we have in Our dataset?\n",
        "df.nunique()"
      ],
      "execution_count": 137,
      "outputs": [
        {
          "output_type": "execute_result",
          "data": {
            "text/plain": [
              "status                         2\n",
              "age                           93\n",
              "sex                            3\n",
              "on_thyroxine                   2\n",
              "query_on_thyroxine             2\n",
              "on_antithyroid_medication      2\n",
              "thyroid_surgery                2\n",
              "query_hypothyroid              2\n",
              "query_hyperthyroid             2\n",
              "pregnant                       2\n",
              "sick                           2\n",
              "tumor                          2\n",
              "lithium                        2\n",
              "goitre                         2\n",
              "TSH_measured                   2\n",
              "TSH                          240\n",
              "T3_measured                    2\n",
              "T3                            70\n",
              "TT4_measured                   2\n",
              "TT4                          269\n",
              "T4U_measured                   2\n",
              "T4U                          159\n",
              "FTI_measured                   2\n",
              "FTI                          281\n",
              "TBG_measured                   2\n",
              "TBG                           53\n",
              "dtype: int64"
            ]
          },
          "metadata": {
            "tags": []
          },
          "execution_count": 137
        }
      ]
    },
    {
      "cell_type": "markdown",
      "metadata": {
        "id": "xPb9qF4EM1lo"
      },
      "source": [
        "# **Columns Validation**\n",
        "\n",
        "Our columns description have been validated from the following sources:\n",
        "\n",
        "1. https://www.gerties.org/conditions/thyroid-disease/\n",
        "2.https://www.piedmont.org/living-better/the-difference-between-hypothyroidism-and-hyperthyroidism \n",
        "3. https://www.healthline.com/health/serum-tbg-level"
      ]
    },
    {
      "cell_type": "code",
      "metadata": {
        "id": "hGQ8Q2rl8pwl"
      },
      "source": [
        "#Age - Ageof Patient\n",
        "#Sex - Sex of Patient\n",
        "#on_thyroxine - whether one is on thyroxine or not\n",
        "#query_on_thyroxine\n",
        "#on_antithyroid_medicationthyroid_surgery\n",
        "#query_hypothyroid - Whether or not patient had hypothyroid symptoms\n",
        "#Hypothyroidism causes symptoms like slowed metabolism, tiredness, and weight gain. \n",
        "#Having an underactive thyroid can decrease or slow down your bodily functions\n",
        "\n",
        "#query_hyperthyroid - Whether or not patient had hyperthyroid.Hyperthyroidism, \n",
        "#cause more energy, as opposed to less.One may experience weight loss as opposed to weight gain\n",
        "\n",
        "#pregnant\n",
        "#sick\n",
        "#tumor\n",
        "#lithium- Checking whether there were traces of Lithium or not. \n",
        "#Lithium use is associated with an increased risk of hypothyroidism\n",
        "#goitre - Abnormal enlargement of thyroid glands\n",
        "#TSH_measured - Whether TSH levels have been measured or not\n",
        "#TSH -Levels ofthyroid stimulating hormone (TSH) circulating in the blood\n",
        "#T3_measured - Whether T3 was measured or not\n",
        "#T3 -For thyroxine to be active it is converted to triiodothyronine or T3. Blood levels of T3 is useful in evaluating for hyperthyroidism\n",
        "#TT4_measured - Whether T4 was measured\n",
        "#TT4 - Blood levels of freely circulating Thyroxine, or free T4 will be found to be low in hypothyroidism\n",
        "#FTI - A low TSH and low FT4 or FTI indicates hypothyroidism due to a problem involving the pituitary gland\n",
        "#TBG - Thyroxine-Binding Globulin- Serum TBG measurement in blood enables\n",
        "#doctors detect thyroid problems"
      ],
      "execution_count": 138,
      "outputs": []
    },
    {
      "cell_type": "code",
      "metadata": {
        "colab": {
          "base_uri": "https://localhost:8080/"
        },
        "id": "sn6MDy_AyDUg",
        "outputId": "fb78d6d5-feef-4854-dc7a-f6956931e8ab"
      },
      "source": [
        "#Exploring the Unique values further\n",
        "\n",
        "#Status\n",
        "\n",
        "\n",
        "df.status.unique()"
      ],
      "execution_count": 139,
      "outputs": [
        {
          "output_type": "execute_result",
          "data": {
            "text/plain": [
              "array(['hypothyroid', 'negative'], dtype=object)"
            ]
          },
          "metadata": {
            "tags": []
          },
          "execution_count": 139
        }
      ]
    },
    {
      "cell_type": "code",
      "metadata": {
        "colab": {
          "base_uri": "https://localhost:8080/"
        },
        "id": "vXV6ZKCtzp4U",
        "outputId": "479b9fa0-97b8-4617-ee40-6c95dd7f3516"
      },
      "source": [
        "#We have an expected(?) value in Our sex Column\n",
        "df.sex.unique()"
      ],
      "execution_count": 140,
      "outputs": [
        {
          "output_type": "execute_result",
          "data": {
            "text/plain": [
              "array(['M', 'F', '?'], dtype=object)"
            ]
          },
          "metadata": {
            "tags": []
          },
          "execution_count": 140
        }
      ]
    },
    {
      "cell_type": "code",
      "metadata": {
        "colab": {
          "base_uri": "https://localhost:8080/",
          "height": 439
        },
        "id": "QClvg_uE2qBX",
        "outputId": "c306082d-3856-4344-f50e-5a465269fe8a"
      },
      "source": [
        "#We have 73 rows where the sex is not known.\n",
        "#\n",
        "df[df['sex']=='?']"
      ],
      "execution_count": 141,
      "outputs": [
        {
          "output_type": "execute_result",
          "data": {
            "text/html": [
              "<div>\n",
              "<style scoped>\n",
              "    .dataframe tbody tr th:only-of-type {\n",
              "        vertical-align: middle;\n",
              "    }\n",
              "\n",
              "    .dataframe tbody tr th {\n",
              "        vertical-align: top;\n",
              "    }\n",
              "\n",
              "    .dataframe thead th {\n",
              "        text-align: right;\n",
              "    }\n",
              "</style>\n",
              "<table border=\"1\" class=\"dataframe\">\n",
              "  <thead>\n",
              "    <tr style=\"text-align: right;\">\n",
              "      <th></th>\n",
              "      <th>status</th>\n",
              "      <th>age</th>\n",
              "      <th>sex</th>\n",
              "      <th>on_thyroxine</th>\n",
              "      <th>query_on_thyroxine</th>\n",
              "      <th>on_antithyroid_medication</th>\n",
              "      <th>thyroid_surgery</th>\n",
              "      <th>query_hypothyroid</th>\n",
              "      <th>query_hyperthyroid</th>\n",
              "      <th>pregnant</th>\n",
              "      <th>sick</th>\n",
              "      <th>tumor</th>\n",
              "      <th>lithium</th>\n",
              "      <th>goitre</th>\n",
              "      <th>TSH_measured</th>\n",
              "      <th>TSH</th>\n",
              "      <th>T3_measured</th>\n",
              "      <th>T3</th>\n",
              "      <th>TT4_measured</th>\n",
              "      <th>TT4</th>\n",
              "      <th>T4U_measured</th>\n",
              "      <th>T4U</th>\n",
              "      <th>FTI_measured</th>\n",
              "      <th>FTI</th>\n",
              "      <th>TBG_measured</th>\n",
              "      <th>TBG</th>\n",
              "    </tr>\n",
              "  </thead>\n",
              "  <tbody>\n",
              "    <tr>\n",
              "      <th>59</th>\n",
              "      <td>hypothyroid</td>\n",
              "      <td>?</td>\n",
              "      <td>?</td>\n",
              "      <td>f</td>\n",
              "      <td>f</td>\n",
              "      <td>f</td>\n",
              "      <td>f</td>\n",
              "      <td>f</td>\n",
              "      <td>f</td>\n",
              "      <td>f</td>\n",
              "      <td>f</td>\n",
              "      <td>f</td>\n",
              "      <td>f</td>\n",
              "      <td>f</td>\n",
              "      <td>y</td>\n",
              "      <td>24</td>\n",
              "      <td>y</td>\n",
              "      <td>0.6</td>\n",
              "      <td>y</td>\n",
              "      <td>21</td>\n",
              "      <td>y</td>\n",
              "      <td>0.97</td>\n",
              "      <td>y</td>\n",
              "      <td>22</td>\n",
              "      <td>n</td>\n",
              "      <td>?</td>\n",
              "    </tr>\n",
              "    <tr>\n",
              "      <th>143</th>\n",
              "      <td>hypothyroid</td>\n",
              "      <td>?</td>\n",
              "      <td>?</td>\n",
              "      <td>f</td>\n",
              "      <td>f</td>\n",
              "      <td>f</td>\n",
              "      <td>f</td>\n",
              "      <td>f</td>\n",
              "      <td>f</td>\n",
              "      <td>f</td>\n",
              "      <td>f</td>\n",
              "      <td>f</td>\n",
              "      <td>f</td>\n",
              "      <td>f</td>\n",
              "      <td>y</td>\n",
              "      <td>7.5</td>\n",
              "      <td>y</td>\n",
              "      <td>1.2</td>\n",
              "      <td>y</td>\n",
              "      <td>37</td>\n",
              "      <td>y</td>\n",
              "      <td>1.06</td>\n",
              "      <td>y</td>\n",
              "      <td>35</td>\n",
              "      <td>n</td>\n",
              "      <td>?</td>\n",
              "    </tr>\n",
              "    <tr>\n",
              "      <th>177</th>\n",
              "      <td>negative</td>\n",
              "      <td>?</td>\n",
              "      <td>?</td>\n",
              "      <td>f</td>\n",
              "      <td>f</td>\n",
              "      <td>f</td>\n",
              "      <td>f</td>\n",
              "      <td>f</td>\n",
              "      <td>f</td>\n",
              "      <td>f</td>\n",
              "      <td>f</td>\n",
              "      <td>f</td>\n",
              "      <td>f</td>\n",
              "      <td>f</td>\n",
              "      <td>y</td>\n",
              "      <td>1.5</td>\n",
              "      <td>y</td>\n",
              "      <td>1.7</td>\n",
              "      <td>y</td>\n",
              "      <td>75</td>\n",
              "      <td>y</td>\n",
              "      <td>0.84</td>\n",
              "      <td>y</td>\n",
              "      <td>89</td>\n",
              "      <td>n</td>\n",
              "      <td>?</td>\n",
              "    </tr>\n",
              "    <tr>\n",
              "      <th>179</th>\n",
              "      <td>negative</td>\n",
              "      <td>?</td>\n",
              "      <td>?</td>\n",
              "      <td>f</td>\n",
              "      <td>f</td>\n",
              "      <td>f</td>\n",
              "      <td>f</td>\n",
              "      <td>f</td>\n",
              "      <td>f</td>\n",
              "      <td>f</td>\n",
              "      <td>f</td>\n",
              "      <td>f</td>\n",
              "      <td>f</td>\n",
              "      <td>f</td>\n",
              "      <td>n</td>\n",
              "      <td>?</td>\n",
              "      <td>n</td>\n",
              "      <td>?</td>\n",
              "      <td>y</td>\n",
              "      <td>260</td>\n",
              "      <td>y</td>\n",
              "      <td>0.31</td>\n",
              "      <td>y</td>\n",
              "      <td>839</td>\n",
              "      <td>n</td>\n",
              "      <td>?</td>\n",
              "    </tr>\n",
              "    <tr>\n",
              "      <th>279</th>\n",
              "      <td>negative</td>\n",
              "      <td>56</td>\n",
              "      <td>?</td>\n",
              "      <td>t</td>\n",
              "      <td>f</td>\n",
              "      <td>f</td>\n",
              "      <td>f</td>\n",
              "      <td>f</td>\n",
              "      <td>f</td>\n",
              "      <td>f</td>\n",
              "      <td>f</td>\n",
              "      <td>f</td>\n",
              "      <td>f</td>\n",
              "      <td>f</td>\n",
              "      <td>y</td>\n",
              "      <td>0</td>\n",
              "      <td>n</td>\n",
              "      <td>?</td>\n",
              "      <td>y</td>\n",
              "      <td>178</td>\n",
              "      <td>y</td>\n",
              "      <td>1.11</td>\n",
              "      <td>y</td>\n",
              "      <td>161</td>\n",
              "      <td>n</td>\n",
              "      <td>?</td>\n",
              "    </tr>\n",
              "    <tr>\n",
              "      <th>...</th>\n",
              "      <td>...</td>\n",
              "      <td>...</td>\n",
              "      <td>...</td>\n",
              "      <td>...</td>\n",
              "      <td>...</td>\n",
              "      <td>...</td>\n",
              "      <td>...</td>\n",
              "      <td>...</td>\n",
              "      <td>...</td>\n",
              "      <td>...</td>\n",
              "      <td>...</td>\n",
              "      <td>...</td>\n",
              "      <td>...</td>\n",
              "      <td>...</td>\n",
              "      <td>...</td>\n",
              "      <td>...</td>\n",
              "      <td>...</td>\n",
              "      <td>...</td>\n",
              "      <td>...</td>\n",
              "      <td>...</td>\n",
              "      <td>...</td>\n",
              "      <td>...</td>\n",
              "      <td>...</td>\n",
              "      <td>...</td>\n",
              "      <td>...</td>\n",
              "      <td>...</td>\n",
              "    </tr>\n",
              "    <tr>\n",
              "      <th>3062</th>\n",
              "      <td>negative</td>\n",
              "      <td>?</td>\n",
              "      <td>?</td>\n",
              "      <td>f</td>\n",
              "      <td>f</td>\n",
              "      <td>f</td>\n",
              "      <td>f</td>\n",
              "      <td>f</td>\n",
              "      <td>f</td>\n",
              "      <td>f</td>\n",
              "      <td>f</td>\n",
              "      <td>f</td>\n",
              "      <td>f</td>\n",
              "      <td>f</td>\n",
              "      <td>y</td>\n",
              "      <td>9.6</td>\n",
              "      <td>y</td>\n",
              "      <td>4.8</td>\n",
              "      <td>y</td>\n",
              "      <td>168</td>\n",
              "      <td>y</td>\n",
              "      <td>0.28</td>\n",
              "      <td>y</td>\n",
              "      <td>612</td>\n",
              "      <td>n</td>\n",
              "      <td>?</td>\n",
              "    </tr>\n",
              "    <tr>\n",
              "      <th>3091</th>\n",
              "      <td>negative</td>\n",
              "      <td>?</td>\n",
              "      <td>?</td>\n",
              "      <td>f</td>\n",
              "      <td>f</td>\n",
              "      <td>f</td>\n",
              "      <td>f</td>\n",
              "      <td>f</td>\n",
              "      <td>f</td>\n",
              "      <td>f</td>\n",
              "      <td>f</td>\n",
              "      <td>f</td>\n",
              "      <td>f</td>\n",
              "      <td>f</td>\n",
              "      <td>n</td>\n",
              "      <td>?</td>\n",
              "      <td>n</td>\n",
              "      <td>?</td>\n",
              "      <td>y</td>\n",
              "      <td>175</td>\n",
              "      <td>y</td>\n",
              "      <td>0.86</td>\n",
              "      <td>y</td>\n",
              "      <td>204</td>\n",
              "      <td>n</td>\n",
              "      <td>?</td>\n",
              "    </tr>\n",
              "    <tr>\n",
              "      <th>3095</th>\n",
              "      <td>negative</td>\n",
              "      <td>?</td>\n",
              "      <td>?</td>\n",
              "      <td>f</td>\n",
              "      <td>f</td>\n",
              "      <td>f</td>\n",
              "      <td>f</td>\n",
              "      <td>f</td>\n",
              "      <td>f</td>\n",
              "      <td>f</td>\n",
              "      <td>f</td>\n",
              "      <td>f</td>\n",
              "      <td>f</td>\n",
              "      <td>f</td>\n",
              "      <td>y</td>\n",
              "      <td>0</td>\n",
              "      <td>y</td>\n",
              "      <td>1</td>\n",
              "      <td>y</td>\n",
              "      <td>83</td>\n",
              "      <td>y</td>\n",
              "      <td>0.73</td>\n",
              "      <td>y</td>\n",
              "      <td>115</td>\n",
              "      <td>n</td>\n",
              "      <td>?</td>\n",
              "    </tr>\n",
              "    <tr>\n",
              "      <th>3100</th>\n",
              "      <td>negative</td>\n",
              "      <td>?</td>\n",
              "      <td>?</td>\n",
              "      <td>f</td>\n",
              "      <td>f</td>\n",
              "      <td>f</td>\n",
              "      <td>f</td>\n",
              "      <td>f</td>\n",
              "      <td>f</td>\n",
              "      <td>f</td>\n",
              "      <td>f</td>\n",
              "      <td>f</td>\n",
              "      <td>f</td>\n",
              "      <td>f</td>\n",
              "      <td>y</td>\n",
              "      <td>8.2</td>\n",
              "      <td>y</td>\n",
              "      <td>3.8</td>\n",
              "      <td>y</td>\n",
              "      <td>124</td>\n",
              "      <td>y</td>\n",
              "      <td>0.29</td>\n",
              "      <td>y</td>\n",
              "      <td>428</td>\n",
              "      <td>n</td>\n",
              "      <td>?</td>\n",
              "    </tr>\n",
              "    <tr>\n",
              "      <th>3149</th>\n",
              "      <td>negative</td>\n",
              "      <td>?</td>\n",
              "      <td>?</td>\n",
              "      <td>f</td>\n",
              "      <td>f</td>\n",
              "      <td>f</td>\n",
              "      <td>f</td>\n",
              "      <td>f</td>\n",
              "      <td>f</td>\n",
              "      <td>f</td>\n",
              "      <td>f</td>\n",
              "      <td>f</td>\n",
              "      <td>f</td>\n",
              "      <td>f</td>\n",
              "      <td>y</td>\n",
              "      <td>2.9</td>\n",
              "      <td>y</td>\n",
              "      <td>2</td>\n",
              "      <td>y</td>\n",
              "      <td>118</td>\n",
              "      <td>y</td>\n",
              "      <td>1.04</td>\n",
              "      <td>y</td>\n",
              "      <td>113</td>\n",
              "      <td>n</td>\n",
              "      <td>?</td>\n",
              "    </tr>\n",
              "  </tbody>\n",
              "</table>\n",
              "<p>73 rows × 26 columns</p>\n",
              "</div>"
            ],
            "text/plain": [
              "           status age sex on_thyroxine  ... FTI_measured  FTI TBG_measured TBG\n",
              "59    hypothyroid   ?   ?            f  ...            y   22            n   ?\n",
              "143   hypothyroid   ?   ?            f  ...            y   35            n   ?\n",
              "177      negative   ?   ?            f  ...            y   89            n   ?\n",
              "179      negative   ?   ?            f  ...            y  839            n   ?\n",
              "279      negative  56   ?            t  ...            y  161            n   ?\n",
              "...           ...  ..  ..          ...  ...          ...  ...          ...  ..\n",
              "3062     negative   ?   ?            f  ...            y  612            n   ?\n",
              "3091     negative   ?   ?            f  ...            y  204            n   ?\n",
              "3095     negative   ?   ?            f  ...            y  115            n   ?\n",
              "3100     negative   ?   ?            f  ...            y  428            n   ?\n",
              "3149     negative   ?   ?            f  ...            y  113            n   ?\n",
              "\n",
              "[73 rows x 26 columns]"
            ]
          },
          "metadata": {
            "tags": []
          },
          "execution_count": 141
        }
      ]
    },
    {
      "cell_type": "code",
      "metadata": {
        "colab": {
          "base_uri": "https://localhost:8080/"
        },
        "id": "Gu6FCQVO4ZJG",
        "outputId": "b83dabf0-7ba8-4ebc-82a2-1d47f5e251f9"
      },
      "source": [
        "#We expect False and True\n",
        "df.on_thyroxine.unique()"
      ],
      "execution_count": 142,
      "outputs": [
        {
          "output_type": "execute_result",
          "data": {
            "text/plain": [
              "array(['f', 't'], dtype=object)"
            ]
          },
          "metadata": {
            "tags": []
          },
          "execution_count": 142
        }
      ]
    },
    {
      "cell_type": "code",
      "metadata": {
        "colab": {
          "base_uri": "https://localhost:8080/"
        },
        "id": "XncyUce67tjv",
        "outputId": "4a6e2139-bd81-4ccc-d3e2-0cea1540db9f"
      },
      "source": [
        "#We expect False and True entries\n",
        "df.query_on_thyroxine.unique()"
      ],
      "execution_count": 143,
      "outputs": [
        {
          "output_type": "execute_result",
          "data": {
            "text/plain": [
              "array(['f', 't'], dtype=object)"
            ]
          },
          "metadata": {
            "tags": []
          },
          "execution_count": 143
        }
      ]
    },
    {
      "cell_type": "code",
      "metadata": {
        "colab": {
          "base_uri": "https://localhost:8080/"
        },
        "id": "UUrJs3q06oKG",
        "outputId": "acd794b0-d2ee-496e-9fa8-5c39fd241b26"
      },
      "source": [
        "#We expect True and False entries\n",
        "df.on_antithyroid_medication.unique()"
      ],
      "execution_count": 144,
      "outputs": [
        {
          "output_type": "execute_result",
          "data": {
            "text/plain": [
              "array(['f', 't'], dtype=object)"
            ]
          },
          "metadata": {
            "tags": []
          },
          "execution_count": 144
        }
      ]
    },
    {
      "cell_type": "code",
      "metadata": {
        "colab": {
          "base_uri": "https://localhost:8080/"
        },
        "id": "bqWjhwtHJ1ZX",
        "outputId": "3d23222b-4968-4ef5-e0e4-66e68f050a4f"
      },
      "source": [
        "#We have (?) entries that will have to be dealt with\n",
        "df.T3.unique()"
      ],
      "execution_count": 145,
      "outputs": [
        {
          "output_type": "execute_result",
          "data": {
            "text/plain": [
              "array(['0.6', '1.7', '0.2', '0.4', '1.2', '1.1', '1.3', '1.9', '?', '0.8',\n",
              "       '2.2', '1.5', '2.7', '2', '0.3', '2.1', '0.5', '0.7', '1', '1.4',\n",
              "       '2.3', '2.4', '0.9', '1.8', '0', '2.8', '1.6', '6.7', '3.3', '3',\n",
              "       '2.5', '2.6', '4', '9.8', '3.9', '3.4', '3.8', '4.5', '3.2', '3.7',\n",
              "       '4.3', '2.9', '3.1', '3.5', '3.6', '6.6', '4.9', '8.9', '4.1', '5',\n",
              "       '5.3', '7.6', '7.3', '4.2', '4.4', '5.1', '7', '0.1', '0.05',\n",
              "       '4.7', '6.2', '5.5', '4.6', '6.1', '8.1', '5.2', '5.6', '4.8',\n",
              "       '10.2', '8.6'], dtype=object)"
            ]
          },
          "metadata": {
            "tags": []
          },
          "execution_count": 145
        }
      ]
    },
    {
      "cell_type": "code",
      "metadata": {
        "colab": {
          "base_uri": "https://localhost:8080/"
        },
        "id": "4sUcqDTtJgEI",
        "outputId": "74a945b9-b824-4d0d-831a-61fcc90eb5c9"
      },
      "source": [
        "#We have (?) entries that will have to be dealt with\n",
        "df.TSH.unique()"
      ],
      "execution_count": 146,
      "outputs": [
        {
          "output_type": "execute_result",
          "data": {
            "text/plain": [
              "array(['30', '145', '0', '430', '7.3', '138', '7.7', '21', '92', '48',\n",
              "       '36', '15', '15.3', '25', '61', '28', '170', '54', '216', '56',\n",
              "       '71', '46', '70', '34', '53', '9.4', '126', '10', '530', '35',\n",
              "       '65', '57', '125', '23', '80', '117', '49', '66', '8.2', '150',\n",
              "       '?', '18', '165', '164', '24', '90', '77', '19', '58', '100',\n",
              "       '213', '17', '235', '153', '13', '31', '109', '260', '43', '12',\n",
              "       '11', '55', '6.5', '20', '7.5', '14', '60', '140', '33', '8.7',\n",
              "       '0.25', '10.7', '82', '45', '42', '41', '160', '16', '89', '44',\n",
              "       '176', '6.4', '183', '29', '37', '39', '7.9', '59', '68', '38',\n",
              "       '47', '143', '6.6', '288', '96', '0.5', '1.2', '1.9', '0.09',\n",
              "       '3.1', '0.4', '0.85', '0.3', '0.9', '1.5', '4.6', '0.2', '5.8',\n",
              "       '4', '1.4', '2', '2.6', '2.9', '0.8', '4.9', '10.3', '2.3', '0.7',\n",
              "       '0.6', '1.3', '2.5', '5.1', '1.7', '2.7', '22', '8.1', '3.3', '5',\n",
              "       '3.2', '1.8', '1.1', '0.46', '1', '5.6', '4.4', '16.5', '2.1',\n",
              "       '6.3', '5.5', '7.4', '5.9', '0.15', '14.9', '2.2', '9.7', '9.6',\n",
              "       '1.6', '3.7', '3', '2.8', '0.1', '4.2', '27', '3.5', '0.05',\n",
              "       '19.2', '8', '9.1', '3.6', '7.8', '3.8', '8.5', '9.2', '52', '2.4',\n",
              "       '3.9', '0.03', '0.04', '26', '6.1', '0.65', '0.92', '7.6', '8.4',\n",
              "       '14.4', '1.05', '0.37', '178', '6.9', '4.5', '4.7', '40', '6',\n",
              "       '4.1', '14.3', '5.4', '8.3', '0.06', '8.8', '8.9', '7.1', '4.8',\n",
              "       '0.43', '6.7', '200', '8.6', '86', '0.21', '9', '0.26', '3.4',\n",
              "       '6.2', '17.4', '85', '1.83', '63', '13.3', '0.02', '0.42', '9.5',\n",
              "       '0.84', '0.88', '4.3', '0.67', '0.81', '5.2', '9.8', '76', '0.62',\n",
              "       '0.01', '11.4', '88', '0.68', '0.07', '0.69', '0.77', '9.9',\n",
              "       '0.64', '13.2', '6.8', '0.28', '11.6', '0.91', '1.01', '0.23',\n",
              "       '0.35', '50', '32', '0.83', '0.08'], dtype=object)"
            ]
          },
          "metadata": {
            "tags": []
          },
          "execution_count": 146
        }
      ]
    },
    {
      "cell_type": "code",
      "metadata": {
        "id": "qFU59CYcKCXS"
      },
      "source": [
        ""
      ],
      "execution_count": 146,
      "outputs": []
    },
    {
      "cell_type": "code",
      "metadata": {
        "colab": {
          "base_uri": "https://localhost:8080/"
        },
        "id": "jExnb47hKA0w",
        "outputId": "f1f38722-8403-486a-d537-fac846edb46e"
      },
      "source": [
        "#THis column is as expected\n",
        "df.TT4.unique()"
      ],
      "execution_count": 147,
      "outputs": [
        {
          "output_type": "execute_result",
          "data": {
            "text/plain": [
              "array(['15', '19', '4', '6', '57', '27', '54', '34', '39', '7.6', '53',\n",
              "       '38', '98', '44', '37', '81', '13', '17', '12', '50', '23', '14',\n",
              "       '3.9', '52', '32', '30', '84', '10', '55', '24', '28', '11', '6.6',\n",
              "       '31', '33', '41', '9', '78', '42', '8.1', '65', '16', '9.7', '46',\n",
              "       '22', '61', '2.3', '21', '7.5', '18', '66', '25', '43', '2', '3',\n",
              "       '58', '59', '71', '74', '56', '40', '20', '48', '230', '70', '4.1',\n",
              "       '63', '5.3', '2.9', '62', '75', '68', '45', '47', '36', '80',\n",
              "       '109', '8.6', '83', '82', '101', '76', '103', '112', '206', '110',\n",
              "       '93', '79', '121', '?', '107', '88', '187', '254', '115', '113',\n",
              "       '260', '117', '164', '97', '64', '129', '111', '106', '95', '87',\n",
              "       '105', '90', '67', '134', '35', '193', '143', '130', '108', '86',\n",
              "       '96', '92', '99', '216', '152', '125', '138', '194', '91', '120',\n",
              "       '102', '170', '126', '116', '140', '94', '159', '85', '210', '89',\n",
              "       '151', '247', '139', '153', '178', '123', '137', '161', '7.3',\n",
              "       '72', '202', '122', '124', '157', '118', '104', '135', '186',\n",
              "       '241', '131', '119', '100', '220', '176', '136', '183', '155',\n",
              "       '208', '199', '154', '169', '128', '235', '195', '267', '232',\n",
              "       '197', '212', '149', '127', '245', '132', '162', '77', '142', '69',\n",
              "       '173', '141', '156', '181', '189', '60', '114', '198', '147',\n",
              "       '191', '177', '174', '207', '168', '73', '160', '145', '200',\n",
              "       '182', '158', '203', '209', '217', '430', '213', '218', '163',\n",
              "       '296', '167', '148', '166', '185', '248', '172', '144', '150',\n",
              "       '165', '196', '308', '146', '426', '224', '29', '204', '201',\n",
              "       '133', '180', '184', '450', '244', '301', '255', '252', '396',\n",
              "       '223', '261', '250', '179', '219', '190', '51', '221', '171',\n",
              "       '242', '275', '211', '49', '239', '205', '222', '256', '214',\n",
              "       '282', '287', '253', '269', '175', '228', '333', '258', '236',\n",
              "       '225', '263', '283', '359', '188', '240'], dtype=object)"
            ]
          },
          "metadata": {
            "tags": []
          },
          "execution_count": 147
        }
      ]
    },
    {
      "cell_type": "code",
      "metadata": {
        "colab": {
          "base_uri": "https://localhost:8080/"
        },
        "id": "_F5xgs7xKUqH",
        "outputId": "954b6d96-1f50-40a6-a57f-4fb23fbc0ac6"
      },
      "source": [
        "#We have (?) entries that will have to be dealt with\n",
        "df.T4U.unique()"
      ],
      "execution_count": 148,
      "outputs": [
        {
          "output_type": "execute_result",
          "data": {
            "text/plain": [
              "array(['1.48', '1.13', '1', '1.04', '1.28', '1.19', '0.86', '1.05',\n",
              "       '1.21', '1.02', '0.92', '1.29', '0.98', '1.08', '1.01', '1.18',\n",
              "       '1.1', '1.27', '0.83', '1.11', '0.78', '1.39', '1.12', '0.93',\n",
              "       '0.99', '0.9', '1.06', '0.68', '0.67', '1.14', '0.8', '0.96',\n",
              "       '0.95', '1.46', '1.03', '0.97', '0.94', '1.09', '1.24', '1.23',\n",
              "       '1.53', '1.26', '1.4', '1.17', '0.87', '0.61', '0.7', '1.07',\n",
              "       '1.73', '1.45', '1.2', '0.89', '0.84', '0.91', '0.85', '1.35',\n",
              "       '0.82', '1.5', '0.74', '1.71', '1.79', '0.73', '0.77', '1.25', '?',\n",
              "       '0.88', '0.72', '0.31', '0', '0.79', '0.81', '0.71', '1.93',\n",
              "       '1.32', '0.66', '1.68', '1.42', '1.7', '1.83', '1.41', '1.34',\n",
              "       '1.65', '1.22', '0.75', '1.74', '0.69', '1.51', '0.76', '1.16',\n",
              "       '0.35', '0.62', '0.54', '1.36', '1.33', '1.3', '0.48', '1.59',\n",
              "       '1.75', '1.86', '1.38', '1.43', '1.62', '2.01', '0.3', '1.31',\n",
              "       '1.15', '1.57', '0.55', '1.66', '0.52', '1.97', '1.47', '0.36',\n",
              "       '1.88', '1.55', '0.34', '1.67', '0.58', '0.6', '0.59', '1.37',\n",
              "       '1.76', '0.64', '1.8', '0.41', '0.2', '1.77', '0.33', '1.54',\n",
              "       '0.46', '0.32', '1.44', '1.56', '0.56', '1.52', '2.03', '0.65',\n",
              "       '0.63', '1.96', '0.53', '0.47', '0.29', '2.21', '1.69', '1.64',\n",
              "       '1.49', '1.72', '1.58', '0.57', '1.61', '0.28', '2', '1.63',\n",
              "       '0.27', '1.94', '0.5', '0.49', '0.4', '0.38'], dtype=object)"
            ]
          },
          "metadata": {
            "tags": []
          },
          "execution_count": 148
        }
      ]
    },
    {
      "cell_type": "code",
      "metadata": {
        "colab": {
          "base_uri": "https://localhost:8080/"
        },
        "id": "vcKAJVxfKh0H",
        "outputId": "23f63b35-1d07-4185-ce91-a333f80cbd49"
      },
      "source": [
        "#We have (?) entries that will have to be dealt with\n",
        "df.FTI.unique()"
      ],
      "execution_count": 149,
      "outputs": [
        {
          "output_type": "execute_result",
          "data": {
            "text/plain": [
              "array(['10', '17', '0', '6', '44', '23', '63', '32', '7.5', '61', '41',\n",
              "       '76', '45', '34', '81', '11', '16', '46', '22', '12', '5', '47',\n",
              "       '29', '37', '60', '8.4', '8.5', '24', '28', '7', '49', '36', '15',\n",
              "       '9', '80', '53', '7.2', '68', '6.6', '48', '21', '14', '2', '20',\n",
              "       '1.4', '56', '3', '51', '13', '43', '78', '52', '64', '26', '35',\n",
              "       '31', '133', '3.4', '54', '8.9', '57', '5.5', '58', '55', '2.8',\n",
              "       '66', '4', '40', '50', '8.7', '87', '89', '112', '123', '99', '92',\n",
              "       '104', '69', '196', '107', '106', '74', '97', '?', '122', '84',\n",
              "       '114', '124', '241', '119', '120', '136', '85', '127', '839',\n",
              "       '137', '197', '96', '77', '108', '82', '72', '94', '91', '240',\n",
              "       '121', '109', '79', '100', '98', '73', '117', '165', '103', '88',\n",
              "       '101', '126', '132', '128', '143', '152', '141', '186', '113',\n",
              "       '102', '125', '93', '105', '159', '188', '71', '149', '116', '83',\n",
              "       '176', '161', '86', '140', '111', '158', '115', '171', '90', '95',\n",
              "       '70', '135', '134', '178', '110', '170', '205', '695', '155',\n",
              "       '118', '741', '131', '129', '142', '153', '75', '254', '246',\n",
              "       '139', '185', '157', '147', '164', '130', '222', '650', '174',\n",
              "       '182', '144', '169', '257', '145', '345', '180', '167', '151',\n",
              "       '154', '150', '219', '228', '65', '187', '166', '195', '208',\n",
              "       '138', '33', '173', '146', '211', '181', '190', '247', '221',\n",
              "       '395', '216', '212', '148', '162', '220', '370', '450', '160',\n",
              "       '59', '189', '203', '168', '179', '264', '470', '184', '163', '67',\n",
              "       '213', '354', '292', '359', '172', '156', '334', '177', '214',\n",
              "       '194', '192', '215', '217', '271', '250', '244', '308', '881',\n",
              "       '258', '316', '200', '711', '256', '232', '202', '39', '248',\n",
              "       '237', '259', '445', '19', '852', '42', '235', '634', '283', '305',\n",
              "       '204', '229', '332', '550', '249', '263', '615', '266', '198',\n",
              "       '175', '209', '299', '193', '227', '223', '337', '210', '272',\n",
              "       '702', '218', '239', '355', '482', '347', '485', '612', '428'],\n",
              "      dtype=object)"
            ]
          },
          "metadata": {
            "tags": []
          },
          "execution_count": 149
        }
      ]
    },
    {
      "cell_type": "code",
      "metadata": {
        "colab": {
          "base_uri": "https://localhost:8080/"
        },
        "id": "ccNtIahqjfFC",
        "outputId": "50b58e53-e1c3-464d-af31-74b890fef80b"
      },
      "source": [
        "#We have missing entries in the TBG column\n",
        "df.TBG.unique()"
      ],
      "execution_count": 150,
      "outputs": [
        {
          "output_type": "execute_result",
          "data": {
            "text/plain": [
              "array(['?', '28', '34', '0', '19', '30', '25', '48', '39', '31', '16',\n",
              "       '21', '37', '40', '27', '3.1', '38', '108', '20', '36', '17', '23',\n",
              "       '35', '32', '63', '9.3', '15', '26', '33', '41', '110', '22', '43',\n",
              "       '53', '80', '47', '29', '13', '24', '18', '45', '86', '50', '8.4',\n",
              "       '52', '11', '12', '14', '65', '7.3', '8.5', '69', '122'],\n",
              "      dtype=object)"
            ]
          },
          "metadata": {
            "tags": []
          },
          "execution_count": 150
        }
      ]
    },
    {
      "cell_type": "markdown",
      "metadata": {
        "id": "3FZKwzgQN_TV"
      },
      "source": [
        "# Consistency"
      ]
    },
    {
      "cell_type": "code",
      "metadata": {
        "id": "eiQi3wDrN90O"
      },
      "source": [
        "#We will denote all non-valid entries as missing entries and then checlk for the \n",
        "#missing values in our dataset\n",
        "df.replace('?', np.nan, inplace=True)"
      ],
      "execution_count": 151,
      "outputs": []
    },
    {
      "cell_type": "code",
      "metadata": {
        "colab": {
          "base_uri": "https://localhost:8080/",
          "height": 879
        },
        "id": "0azPqLHVQfXT",
        "outputId": "3a6ecb13-0200-4f61-c5f4-238c5e390aba"
      },
      "source": [
        "#Checking for missing values\n",
        "plt.figure(figsize=(10, 8), dpi=100)\n",
        "df.isna().sum().plot(kind='bar')\n",
        "plt.title('Distribution of Missing Values in Our Dataset');"
      ],
      "execution_count": 152,
      "outputs": [
        {
          "output_type": "display_data",
          "data": {
            "image/png": "[encoded data removed]",
            "text/plain": [
              "<Figure size 1000x800 with 1 Axes>"
            ]
          },
          "metadata": {
            "tags": []
          }
        }
      ]
    },
    {
      "cell_type": "code",
      "metadata": {
        "colab": {
          "base_uri": "https://localhost:8080/"
        },
        "id": "jnaWogsXVpV1",
        "outputId": "71f09bb7-7398-4ebd-d17e-e057177c4c18"
      },
      "source": [
        "#To make a decision on how to address the missing values in Our dataset,\n",
        "#determining their percentages will be an important first step.\n",
        "\n",
        "\n",
        "#Deriving percentage of missing values\n",
        "100 *df.isna().sum()/len(df)\n",
        "\n",
        "#Creating a function to help us derive the percentages\n",
        "\n",
        "def percent_missing(df):\n",
        "  percent_na = 100 *df.isna().sum()/len(df)\n",
        "  percent_na = percent_na[percent_na>0].sort_values()\n",
        "\n",
        "  return percent_na\n",
        "\n",
        "percent_na = percent_missing(df)\n",
        "\n",
        "percent_na"
      ],
      "execution_count": 153,
      "outputs": [
        {
          "output_type": "execute_result",
          "data": {
            "text/plain": [
              "sex     2.307936\n",
              "FTI     7.809042\n",
              "T4U     7.840658\n",
              "TT4     7.872273\n",
              "age    14.100537\n",
              "TSH    14.796080\n",
              "T3     21.972811\n",
              "TBG    91.779956\n",
              "dtype: float64"
            ]
          },
          "metadata": {
            "tags": []
          },
          "execution_count": 153
        }
      ]
    },
    {
      "cell_type": "code",
      "metadata": {
        "id": "BqjlhTq4X8bG"
      },
      "source": [
        "#Although from our validation studies, TBG levels are a crucial\n",
        "#determinant for Hyper/Hypothyroidism, we have too many missing\n",
        "#values that it would almost impossible to come up with a \n",
        "#meaningful cure. The best decision to make at this stage is to just drop this \n",
        "#column\n",
        "\n",
        "#We can take comfort in the fact that in any case, T3 and T4 which cling on TBG\n",
        "# and determine to a large extend its values are still available in our dataset\n",
        "\n",
        "\n",
        "df.drop('TBG', axis=1, inplace=True)"
      ],
      "execution_count": 154,
      "outputs": []
    },
    {
      "cell_type": "code",
      "metadata": {
        "colab": {
          "base_uri": "https://localhost:8080/",
          "height": 824
        },
        "id": "7IykLdoyer7-",
        "outputId": "a1db710e-2eac-4093-8fbf-f94ba5b6ffa1"
      },
      "source": [
        "#Displaying Summary Statistics to help make a decision on how to deal with the \n",
        "#remaining missing values \n",
        "df.describe().T"
      ],
      "execution_count": 155,
      "outputs": [
        {
          "output_type": "execute_result",
          "data": {
            "text/html": [
              "<div>\n",
              "<style scoped>\n",
              "    .dataframe tbody tr th:only-of-type {\n",
              "        vertical-align: middle;\n",
              "    }\n",
              "\n",
              "    .dataframe tbody tr th {\n",
              "        vertical-align: top;\n",
              "    }\n",
              "\n",
              "    .dataframe thead th {\n",
              "        text-align: right;\n",
              "    }\n",
              "</style>\n",
              "<table border=\"1\" class=\"dataframe\">\n",
              "  <thead>\n",
              "    <tr style=\"text-align: right;\">\n",
              "      <th></th>\n",
              "      <th>count</th>\n",
              "      <th>unique</th>\n",
              "      <th>top</th>\n",
              "      <th>freq</th>\n",
              "    </tr>\n",
              "  </thead>\n",
              "  <tbody>\n",
              "    <tr>\n",
              "      <th>status</th>\n",
              "      <td>3163</td>\n",
              "      <td>2</td>\n",
              "      <td>negative</td>\n",
              "      <td>3012</td>\n",
              "    </tr>\n",
              "    <tr>\n",
              "      <th>age</th>\n",
              "      <td>2717</td>\n",
              "      <td>92</td>\n",
              "      <td>59</td>\n",
              "      <td>64</td>\n",
              "    </tr>\n",
              "    <tr>\n",
              "      <th>sex</th>\n",
              "      <td>3090</td>\n",
              "      <td>2</td>\n",
              "      <td>F</td>\n",
              "      <td>2182</td>\n",
              "    </tr>\n",
              "    <tr>\n",
              "      <th>on_thyroxine</th>\n",
              "      <td>3163</td>\n",
              "      <td>2</td>\n",
              "      <td>f</td>\n",
              "      <td>2702</td>\n",
              "    </tr>\n",
              "    <tr>\n",
              "      <th>query_on_thyroxine</th>\n",
              "      <td>3163</td>\n",
              "      <td>2</td>\n",
              "      <td>f</td>\n",
              "      <td>3108</td>\n",
              "    </tr>\n",
              "    <tr>\n",
              "      <th>on_antithyroid_medication</th>\n",
              "      <td>3163</td>\n",
              "      <td>2</td>\n",
              "      <td>f</td>\n",
              "      <td>3121</td>\n",
              "    </tr>\n",
              "    <tr>\n",
              "      <th>thyroid_surgery</th>\n",
              "      <td>3163</td>\n",
              "      <td>2</td>\n",
              "      <td>f</td>\n",
              "      <td>3059</td>\n",
              "    </tr>\n",
              "    <tr>\n",
              "      <th>query_hypothyroid</th>\n",
              "      <td>3163</td>\n",
              "      <td>2</td>\n",
              "      <td>f</td>\n",
              "      <td>2922</td>\n",
              "    </tr>\n",
              "    <tr>\n",
              "      <th>query_hyperthyroid</th>\n",
              "      <td>3163</td>\n",
              "      <td>2</td>\n",
              "      <td>f</td>\n",
              "      <td>2920</td>\n",
              "    </tr>\n",
              "    <tr>\n",
              "      <th>pregnant</th>\n",
              "      <td>3163</td>\n",
              "      <td>2</td>\n",
              "      <td>f</td>\n",
              "      <td>3100</td>\n",
              "    </tr>\n",
              "    <tr>\n",
              "      <th>sick</th>\n",
              "      <td>3163</td>\n",
              "      <td>2</td>\n",
              "      <td>f</td>\n",
              "      <td>3064</td>\n",
              "    </tr>\n",
              "    <tr>\n",
              "      <th>tumor</th>\n",
              "      <td>3163</td>\n",
              "      <td>2</td>\n",
              "      <td>f</td>\n",
              "      <td>3123</td>\n",
              "    </tr>\n",
              "    <tr>\n",
              "      <th>lithium</th>\n",
              "      <td>3163</td>\n",
              "      <td>2</td>\n",
              "      <td>f</td>\n",
              "      <td>3161</td>\n",
              "    </tr>\n",
              "    <tr>\n",
              "      <th>goitre</th>\n",
              "      <td>3163</td>\n",
              "      <td>2</td>\n",
              "      <td>f</td>\n",
              "      <td>3064</td>\n",
              "    </tr>\n",
              "    <tr>\n",
              "      <th>TSH_measured</th>\n",
              "      <td>3163</td>\n",
              "      <td>2</td>\n",
              "      <td>y</td>\n",
              "      <td>2695</td>\n",
              "    </tr>\n",
              "    <tr>\n",
              "      <th>TSH</th>\n",
              "      <td>2695</td>\n",
              "      <td>239</td>\n",
              "      <td>0</td>\n",
              "      <td>894</td>\n",
              "    </tr>\n",
              "    <tr>\n",
              "      <th>T3_measured</th>\n",
              "      <td>3163</td>\n",
              "      <td>2</td>\n",
              "      <td>y</td>\n",
              "      <td>2468</td>\n",
              "    </tr>\n",
              "    <tr>\n",
              "      <th>T3</th>\n",
              "      <td>2468</td>\n",
              "      <td>69</td>\n",
              "      <td>1.6</td>\n",
              "      <td>141</td>\n",
              "    </tr>\n",
              "    <tr>\n",
              "      <th>TT4_measured</th>\n",
              "      <td>3163</td>\n",
              "      <td>2</td>\n",
              "      <td>y</td>\n",
              "      <td>2914</td>\n",
              "    </tr>\n",
              "    <tr>\n",
              "      <th>TT4</th>\n",
              "      <td>2914</td>\n",
              "      <td>268</td>\n",
              "      <td>98</td>\n",
              "      <td>50</td>\n",
              "    </tr>\n",
              "    <tr>\n",
              "      <th>T4U_measured</th>\n",
              "      <td>3163</td>\n",
              "      <td>2</td>\n",
              "      <td>y</td>\n",
              "      <td>2915</td>\n",
              "    </tr>\n",
              "    <tr>\n",
              "      <th>T4U</th>\n",
              "      <td>2915</td>\n",
              "      <td>158</td>\n",
              "      <td>0.98</td>\n",
              "      <td>86</td>\n",
              "    </tr>\n",
              "    <tr>\n",
              "      <th>FTI_measured</th>\n",
              "      <td>3163</td>\n",
              "      <td>2</td>\n",
              "      <td>y</td>\n",
              "      <td>2916</td>\n",
              "    </tr>\n",
              "    <tr>\n",
              "      <th>FTI</th>\n",
              "      <td>2916</td>\n",
              "      <td>280</td>\n",
              "      <td>98</td>\n",
              "      <td>55</td>\n",
              "    </tr>\n",
              "    <tr>\n",
              "      <th>TBG_measured</th>\n",
              "      <td>3163</td>\n",
              "      <td>2</td>\n",
              "      <td>n</td>\n",
              "      <td>2903</td>\n",
              "    </tr>\n",
              "  </tbody>\n",
              "</table>\n",
              "</div>"
            ],
            "text/plain": [
              "                          count unique       top  freq\n",
              "status                     3163      2  negative  3012\n",
              "age                        2717     92        59    64\n",
              "sex                        3090      2         F  2182\n",
              "on_thyroxine               3163      2         f  2702\n",
              "query_on_thyroxine         3163      2         f  3108\n",
              "on_antithyroid_medication  3163      2         f  3121\n",
              "thyroid_surgery            3163      2         f  3059\n",
              "query_hypothyroid          3163      2         f  2922\n",
              "query_hyperthyroid         3163      2         f  2920\n",
              "pregnant                   3163      2         f  3100\n",
              "sick                       3163      2         f  3064\n",
              "tumor                      3163      2         f  3123\n",
              "lithium                    3163      2         f  3161\n",
              "goitre                     3163      2         f  3064\n",
              "TSH_measured               3163      2         y  2695\n",
              "TSH                        2695    239         0   894\n",
              "T3_measured                3163      2         y  2468\n",
              "T3                         2468     69       1.6   141\n",
              "TT4_measured               3163      2         y  2914\n",
              "TT4                        2914    268        98    50\n",
              "T4U_measured               3163      2         y  2915\n",
              "T4U                        2915    158      0.98    86\n",
              "FTI_measured               3163      2         y  2916\n",
              "FTI                        2916    280        98    55\n",
              "TBG_measured               3163      2         n  2903"
            ]
          },
          "metadata": {
            "tags": []
          },
          "execution_count": 155
        }
      ]
    },
    {
      "cell_type": "markdown",
      "metadata": {
        "id": "g4NdbYe9jrf6"
      },
      "source": [
        "# Feature Engineering"
      ]
    },
    {
      "cell_type": "code",
      "metadata": {
        "id": "02BxXGUNiCUD"
      },
      "source": [
        "#To better address the Missing Values issue, we undertake a bit of feature engineering\n",
        "#We convert our rows with 'f' to 0 and 't' to 1 and same for Female and Male rows\n",
        "df.replace({\"y\":1,\"n\":0, \"t\":1, \"f\":0, \"M\":1, \"F\":0}, inplace=True)"
      ],
      "execution_count": 156,
      "outputs": []
    },
    {
      "cell_type": "code",
      "metadata": {
        "id": "Z7fuZQx5sYxZ"
      },
      "source": [
        "#df.info()"
      ],
      "execution_count": 157,
      "outputs": []
    },
    {
      "cell_type": "code",
      "metadata": {
        "id": "6-k19jA6zWse"
      },
      "source": [
        "#From the Summary Statistics above, the Female Gender is the top count\n",
        "#We make the assumption that missing values will belong to this gender\n",
        "df.sex.mode()\n",
        "\n",
        "#df['sex'] = df.sex.astype(int)\n",
        "df['sex'].fillna(0, inplace = True)\n"
      ],
      "execution_count": 159,
      "outputs": []
    },
    {
      "cell_type": "code",
      "metadata": {
        "id": "-b8jyTPcskQ3"
      },
      "source": [
        "#Since the following columns are Objects, we need to convert them to either ints\n",
        "#or floats in order to do any manioulation on them\n",
        "df['age'] = df['age'].astype(float)\n",
        "df['TSH'] = df.TSH.astype(float)\n",
        "df['T3'] = df.T3.astype(float)\n",
        "df['TT4'] = df.TT4.astype(float)\n",
        "df['FTI'] = df.FTI.astype(float)\n"
      ],
      "execution_count": 160,
      "outputs": []
    },
    {
      "cell_type": "code",
      "metadata": {
        "id": "CK9WLIy1sNBE"
      },
      "source": [
        "#For the following Numerical Columns, we shall fill them with mean and median values\n",
        "df['age'].fillna(df['age'].mean(), inplace = True)\n",
        "df['TSH'].fillna(df['TSH'].mean(), inplace = True)\n",
        "df['T3'].fillna(df['T3'].median(), inplace = True)\n",
        "df['TT4'].fillna(df['TT4'].median(), inplace = True)\n",
        "df['FTI'].fillna(df['FTI'].median(), inplace = True)\n",
        "df['T4U'].fillna(df['T4U'].median(), inplace = True)"
      ],
      "execution_count": 164,
      "outputs": []
    },
    {
      "cell_type": "code",
      "metadata": {
        "colab": {
          "base_uri": "https://localhost:8080/",
          "height": 224
        },
        "id": "P2usw2f_jk0j",
        "outputId": "867d0f9b-ac9c-426a-9d31-681da36f7b14"
      },
      "source": [
        "#Previewing Our first 5 rows\n",
        "df.head()"
      ],
      "execution_count": 165,
      "outputs": [
        {
          "output_type": "execute_result",
          "data": {
            "text/html": [
              "<div>\n",
              "<style scoped>\n",
              "    .dataframe tbody tr th:only-of-type {\n",
              "        vertical-align: middle;\n",
              "    }\n",
              "\n",
              "    .dataframe tbody tr th {\n",
              "        vertical-align: top;\n",
              "    }\n",
              "\n",
              "    .dataframe thead th {\n",
              "        text-align: right;\n",
              "    }\n",
              "</style>\n",
              "<table border=\"1\" class=\"dataframe\">\n",
              "  <thead>\n",
              "    <tr style=\"text-align: right;\">\n",
              "      <th></th>\n",
              "      <th>status</th>\n",
              "      <th>age</th>\n",
              "      <th>sex</th>\n",
              "      <th>on_thyroxine</th>\n",
              "      <th>query_on_thyroxine</th>\n",
              "      <th>on_antithyroid_medication</th>\n",
              "      <th>thyroid_surgery</th>\n",
              "      <th>query_hypothyroid</th>\n",
              "      <th>query_hyperthyroid</th>\n",
              "      <th>pregnant</th>\n",
              "      <th>sick</th>\n",
              "      <th>tumor</th>\n",
              "      <th>lithium</th>\n",
              "      <th>goitre</th>\n",
              "      <th>TSH_measured</th>\n",
              "      <th>TSH</th>\n",
              "      <th>T3_measured</th>\n",
              "      <th>T3</th>\n",
              "      <th>TT4_measured</th>\n",
              "      <th>TT4</th>\n",
              "      <th>T4U_measured</th>\n",
              "      <th>T4U</th>\n",
              "      <th>FTI_measured</th>\n",
              "      <th>FTI</th>\n",
              "      <th>TBG_measured</th>\n",
              "    </tr>\n",
              "  </thead>\n",
              "  <tbody>\n",
              "    <tr>\n",
              "      <th>0</th>\n",
              "      <td>hypothyroid</td>\n",
              "      <td>72.0</td>\n",
              "      <td>1.0</td>\n",
              "      <td>0</td>\n",
              "      <td>0</td>\n",
              "      <td>0</td>\n",
              "      <td>0</td>\n",
              "      <td>0</td>\n",
              "      <td>0</td>\n",
              "      <td>0</td>\n",
              "      <td>0</td>\n",
              "      <td>0</td>\n",
              "      <td>0</td>\n",
              "      <td>0</td>\n",
              "      <td>1</td>\n",
              "      <td>30.0</td>\n",
              "      <td>1</td>\n",
              "      <td>0.6</td>\n",
              "      <td>1</td>\n",
              "      <td>15.0</td>\n",
              "      <td>1</td>\n",
              "      <td>1.48</td>\n",
              "      <td>1</td>\n",
              "      <td>10.0</td>\n",
              "      <td>0</td>\n",
              "    </tr>\n",
              "    <tr>\n",
              "      <th>1</th>\n",
              "      <td>hypothyroid</td>\n",
              "      <td>15.0</td>\n",
              "      <td>0.0</td>\n",
              "      <td>1</td>\n",
              "      <td>0</td>\n",
              "      <td>0</td>\n",
              "      <td>0</td>\n",
              "      <td>0</td>\n",
              "      <td>0</td>\n",
              "      <td>0</td>\n",
              "      <td>0</td>\n",
              "      <td>0</td>\n",
              "      <td>0</td>\n",
              "      <td>0</td>\n",
              "      <td>1</td>\n",
              "      <td>145.0</td>\n",
              "      <td>1</td>\n",
              "      <td>1.7</td>\n",
              "      <td>1</td>\n",
              "      <td>19.0</td>\n",
              "      <td>1</td>\n",
              "      <td>1.13</td>\n",
              "      <td>1</td>\n",
              "      <td>17.0</td>\n",
              "      <td>0</td>\n",
              "    </tr>\n",
              "    <tr>\n",
              "      <th>2</th>\n",
              "      <td>hypothyroid</td>\n",
              "      <td>24.0</td>\n",
              "      <td>1.0</td>\n",
              "      <td>0</td>\n",
              "      <td>0</td>\n",
              "      <td>0</td>\n",
              "      <td>0</td>\n",
              "      <td>0</td>\n",
              "      <td>0</td>\n",
              "      <td>0</td>\n",
              "      <td>0</td>\n",
              "      <td>0</td>\n",
              "      <td>0</td>\n",
              "      <td>0</td>\n",
              "      <td>1</td>\n",
              "      <td>0.0</td>\n",
              "      <td>1</td>\n",
              "      <td>0.2</td>\n",
              "      <td>1</td>\n",
              "      <td>4.0</td>\n",
              "      <td>1</td>\n",
              "      <td>1</td>\n",
              "      <td>1</td>\n",
              "      <td>0.0</td>\n",
              "      <td>0</td>\n",
              "    </tr>\n",
              "    <tr>\n",
              "      <th>3</th>\n",
              "      <td>hypothyroid</td>\n",
              "      <td>24.0</td>\n",
              "      <td>0.0</td>\n",
              "      <td>0</td>\n",
              "      <td>0</td>\n",
              "      <td>0</td>\n",
              "      <td>0</td>\n",
              "      <td>0</td>\n",
              "      <td>0</td>\n",
              "      <td>0</td>\n",
              "      <td>0</td>\n",
              "      <td>0</td>\n",
              "      <td>0</td>\n",
              "      <td>0</td>\n",
              "      <td>1</td>\n",
              "      <td>430.0</td>\n",
              "      <td>1</td>\n",
              "      <td>0.4</td>\n",
              "      <td>1</td>\n",
              "      <td>6.0</td>\n",
              "      <td>1</td>\n",
              "      <td>1.04</td>\n",
              "      <td>1</td>\n",
              "      <td>6.0</td>\n",
              "      <td>0</td>\n",
              "    </tr>\n",
              "    <tr>\n",
              "      <th>4</th>\n",
              "      <td>hypothyroid</td>\n",
              "      <td>77.0</td>\n",
              "      <td>1.0</td>\n",
              "      <td>0</td>\n",
              "      <td>0</td>\n",
              "      <td>0</td>\n",
              "      <td>0</td>\n",
              "      <td>0</td>\n",
              "      <td>0</td>\n",
              "      <td>0</td>\n",
              "      <td>0</td>\n",
              "      <td>0</td>\n",
              "      <td>0</td>\n",
              "      <td>0</td>\n",
              "      <td>1</td>\n",
              "      <td>7.3</td>\n",
              "      <td>1</td>\n",
              "      <td>1.2</td>\n",
              "      <td>1</td>\n",
              "      <td>57.0</td>\n",
              "      <td>1</td>\n",
              "      <td>1.28</td>\n",
              "      <td>1</td>\n",
              "      <td>44.0</td>\n",
              "      <td>0</td>\n",
              "    </tr>\n",
              "  </tbody>\n",
              "</table>\n",
              "</div>"
            ],
            "text/plain": [
              "        status   age  sex  on_thyroxine  ...   T4U  FTI_measured   FTI  TBG_measured\n",
              "0  hypothyroid  72.0  1.0             0  ...  1.48             1  10.0             0\n",
              "1  hypothyroid  15.0  0.0             1  ...  1.13             1  17.0             0\n",
              "2  hypothyroid  24.0  1.0             0  ...     1             1   0.0             0\n",
              "3  hypothyroid  24.0  0.0             0  ...  1.04             1   6.0             0\n",
              "4  hypothyroid  77.0  1.0             0  ...  1.28             1  44.0             0\n",
              "\n",
              "[5 rows x 25 columns]"
            ]
          },
          "metadata": {
            "tags": []
          },
          "execution_count": 165
        }
      ]
    },
    {
      "cell_type": "code",
      "metadata": {
        "colab": {
          "base_uri": "https://localhost:8080/"
        },
        "id": "p-zAswLml65Z",
        "outputId": "daedf99b-9cb1-4535-e306-0e49b10869bc"
      },
      "source": [
        "#Checking whether we still have missing values\n",
        "\n",
        "df.isna().any().sum()"
      ],
      "execution_count": 167,
      "outputs": [
        {
          "output_type": "execute_result",
          "data": {
            "text/plain": [
              "0"
            ]
          },
          "metadata": {
            "tags": []
          },
          "execution_count": 167
        }
      ]
    },
    {
      "cell_type": "markdown",
      "metadata": {
        "id": "eW4B80493dne"
      },
      "source": [
        "# Consistency"
      ]
    },
    {
      "cell_type": "code",
      "metadata": {
        "colab": {
          "base_uri": "https://localhost:8080/"
        },
        "id": "eXXKemH53hqt",
        "outputId": "e1d34210-06f7-4e2e-ba50-91ddaa948f3a"
      },
      "source": [
        "#We check for duplicates in Our dataset\n",
        "\n",
        "df.duplicated().any().sum()"
      ],
      "execution_count": 170,
      "outputs": [
        {
          "output_type": "execute_result",
          "data": {
            "text/plain": [
              "1"
            ]
          },
          "metadata": {
            "tags": []
          },
          "execution_count": 170
        }
      ]
    },
    {
      "cell_type": "code",
      "metadata": {
        "id": "dwmHtB3y3zYd"
      },
      "source": [
        "#Dropping the Duplicate\n",
        "df = df.drop_duplicates()"
      ],
      "execution_count": 174,
      "outputs": []
    },
    {
      "cell_type": "code",
      "metadata": {
        "colab": {
          "base_uri": "https://localhost:8080/"
        },
        "id": "6B72VjdA37PN",
        "outputId": "c1d066e7-1305-49c0-d330-8205321ae440"
      },
      "source": [
        "#Confirming we do not have anymore duplicates\n",
        "\n",
        "df.duplicated().any()"
      ],
      "execution_count": 175,
      "outputs": [
        {
          "output_type": "execute_result",
          "data": {
            "text/plain": [
              "False"
            ]
          },
          "metadata": {
            "tags": []
          },
          "execution_count": 175
        }
      ]
    },
    {
      "cell_type": "markdown",
      "metadata": {
        "id": "z5I4QAfG49_N"
      },
      "source": [
        "# **Outliers**"
      ]
    },
    {
      "cell_type": "code",
      "metadata": {
        "colab": {
          "base_uri": "https://localhost:8080/",
          "height": 762
        },
        "id": "IGAUXbtj4jxB",
        "outputId": "e73c4115-8660-4258-bbdc-bdcc9de7ba74"
      },
      "source": [
        "df.describe().T"
      ],
      "execution_count": 177,
      "outputs": [
        {
          "output_type": "execute_result",
          "data": {
            "text/html": [
              "<div>\n",
              "<style scoped>\n",
              "    .dataframe tbody tr th:only-of-type {\n",
              "        vertical-align: middle;\n",
              "    }\n",
              "\n",
              "    .dataframe tbody tr th {\n",
              "        vertical-align: top;\n",
              "    }\n",
              "\n",
              "    .dataframe thead th {\n",
              "        text-align: right;\n",
              "    }\n",
              "</style>\n",
              "<table border=\"1\" class=\"dataframe\">\n",
              "  <thead>\n",
              "    <tr style=\"text-align: right;\">\n",
              "      <th></th>\n",
              "      <th>count</th>\n",
              "      <th>mean</th>\n",
              "      <th>std</th>\n",
              "      <th>min</th>\n",
              "      <th>25%</th>\n",
              "      <th>50%</th>\n",
              "      <th>75%</th>\n",
              "      <th>max</th>\n",
              "    </tr>\n",
              "  </thead>\n",
              "  <tbody>\n",
              "    <tr>\n",
              "      <th>age</th>\n",
              "      <td>3007.0</td>\n",
              "      <td>51.350030</td>\n",
              "      <td>17.864731</td>\n",
              "      <td>1.0</td>\n",
              "      <td>38.0</td>\n",
              "      <td>51.154214</td>\n",
              "      <td>64.0</td>\n",
              "      <td>98.0</td>\n",
              "    </tr>\n",
              "    <tr>\n",
              "      <th>sex</th>\n",
              "      <td>3007.0</td>\n",
              "      <td>0.295643</td>\n",
              "      <td>0.456407</td>\n",
              "      <td>0.0</td>\n",
              "      <td>0.0</td>\n",
              "      <td>0.000000</td>\n",
              "      <td>1.0</td>\n",
              "      <td>1.0</td>\n",
              "    </tr>\n",
              "    <tr>\n",
              "      <th>on_thyroxine</th>\n",
              "      <td>3007.0</td>\n",
              "      <td>0.148321</td>\n",
              "      <td>0.355477</td>\n",
              "      <td>0.0</td>\n",
              "      <td>0.0</td>\n",
              "      <td>0.000000</td>\n",
              "      <td>0.0</td>\n",
              "      <td>1.0</td>\n",
              "    </tr>\n",
              "    <tr>\n",
              "      <th>query_on_thyroxine</th>\n",
              "      <td>3007.0</td>\n",
              "      <td>0.018291</td>\n",
              "      <td>0.134023</td>\n",
              "      <td>0.0</td>\n",
              "      <td>0.0</td>\n",
              "      <td>0.000000</td>\n",
              "      <td>0.0</td>\n",
              "      <td>1.0</td>\n",
              "    </tr>\n",
              "    <tr>\n",
              "      <th>on_antithyroid_medication</th>\n",
              "      <td>3007.0</td>\n",
              "      <td>0.013967</td>\n",
              "      <td>0.117375</td>\n",
              "      <td>0.0</td>\n",
              "      <td>0.0</td>\n",
              "      <td>0.000000</td>\n",
              "      <td>0.0</td>\n",
              "      <td>1.0</td>\n",
              "    </tr>\n",
              "    <tr>\n",
              "      <th>thyroid_surgery</th>\n",
              "      <td>3007.0</td>\n",
              "      <td>0.034253</td>\n",
              "      <td>0.181910</td>\n",
              "      <td>0.0</td>\n",
              "      <td>0.0</td>\n",
              "      <td>0.000000</td>\n",
              "      <td>0.0</td>\n",
              "      <td>1.0</td>\n",
              "    </tr>\n",
              "    <tr>\n",
              "      <th>query_hypothyroid</th>\n",
              "      <td>3007.0</td>\n",
              "      <td>0.078151</td>\n",
              "      <td>0.268454</td>\n",
              "      <td>0.0</td>\n",
              "      <td>0.0</td>\n",
              "      <td>0.000000</td>\n",
              "      <td>0.0</td>\n",
              "      <td>1.0</td>\n",
              "    </tr>\n",
              "    <tr>\n",
              "      <th>query_hyperthyroid</th>\n",
              "      <td>3007.0</td>\n",
              "      <td>0.075491</td>\n",
              "      <td>0.264225</td>\n",
              "      <td>0.0</td>\n",
              "      <td>0.0</td>\n",
              "      <td>0.000000</td>\n",
              "      <td>0.0</td>\n",
              "      <td>1.0</td>\n",
              "    </tr>\n",
              "    <tr>\n",
              "      <th>pregnant</th>\n",
              "      <td>3007.0</td>\n",
              "      <td>0.020286</td>\n",
              "      <td>0.141000</td>\n",
              "      <td>0.0</td>\n",
              "      <td>0.0</td>\n",
              "      <td>0.000000</td>\n",
              "      <td>0.0</td>\n",
              "      <td>1.0</td>\n",
              "    </tr>\n",
              "    <tr>\n",
              "      <th>sick</th>\n",
              "      <td>3007.0</td>\n",
              "      <td>0.032258</td>\n",
              "      <td>0.176714</td>\n",
              "      <td>0.0</td>\n",
              "      <td>0.0</td>\n",
              "      <td>0.000000</td>\n",
              "      <td>0.0</td>\n",
              "      <td>1.0</td>\n",
              "    </tr>\n",
              "    <tr>\n",
              "      <th>tumor</th>\n",
              "      <td>3007.0</td>\n",
              "      <td>0.013302</td>\n",
              "      <td>0.114585</td>\n",
              "      <td>0.0</td>\n",
              "      <td>0.0</td>\n",
              "      <td>0.000000</td>\n",
              "      <td>0.0</td>\n",
              "      <td>1.0</td>\n",
              "    </tr>\n",
              "    <tr>\n",
              "      <th>lithium</th>\n",
              "      <td>3007.0</td>\n",
              "      <td>0.000665</td>\n",
              "      <td>0.025786</td>\n",
              "      <td>0.0</td>\n",
              "      <td>0.0</td>\n",
              "      <td>0.000000</td>\n",
              "      <td>0.0</td>\n",
              "      <td>1.0</td>\n",
              "    </tr>\n",
              "    <tr>\n",
              "      <th>goitre</th>\n",
              "      <td>3007.0</td>\n",
              "      <td>0.031593</td>\n",
              "      <td>0.174943</td>\n",
              "      <td>0.0</td>\n",
              "      <td>0.0</td>\n",
              "      <td>0.000000</td>\n",
              "      <td>0.0</td>\n",
              "      <td>1.0</td>\n",
              "    </tr>\n",
              "    <tr>\n",
              "      <th>TSH_measured</th>\n",
              "      <td>3007.0</td>\n",
              "      <td>0.874958</td>\n",
              "      <td>0.330821</td>\n",
              "      <td>0.0</td>\n",
              "      <td>1.0</td>\n",
              "      <td>1.000000</td>\n",
              "      <td>1.0</td>\n",
              "      <td>1.0</td>\n",
              "    </tr>\n",
              "    <tr>\n",
              "      <th>TSH</th>\n",
              "      <td>3007.0</td>\n",
              "      <td>5.823557</td>\n",
              "      <td>22.470602</td>\n",
              "      <td>0.0</td>\n",
              "      <td>0.0</td>\n",
              "      <td>1.000000</td>\n",
              "      <td>5.3</td>\n",
              "      <td>530.0</td>\n",
              "    </tr>\n",
              "    <tr>\n",
              "      <th>T3_measured</th>\n",
              "      <td>3007.0</td>\n",
              "      <td>0.800133</td>\n",
              "      <td>0.399967</td>\n",
              "      <td>0.0</td>\n",
              "      <td>1.0</td>\n",
              "      <td>1.000000</td>\n",
              "      <td>1.0</td>\n",
              "      <td>1.0</td>\n",
              "    </tr>\n",
              "    <tr>\n",
              "      <th>T3</th>\n",
              "      <td>3007.0</td>\n",
              "      <td>1.906950</td>\n",
              "      <td>0.877747</td>\n",
              "      <td>0.0</td>\n",
              "      <td>1.5</td>\n",
              "      <td>1.800000</td>\n",
              "      <td>2.2</td>\n",
              "      <td>10.2</td>\n",
              "    </tr>\n",
              "    <tr>\n",
              "      <th>TT4_measured</th>\n",
              "      <td>3007.0</td>\n",
              "      <td>0.946458</td>\n",
              "      <td>0.225149</td>\n",
              "      <td>0.0</td>\n",
              "      <td>1.0</td>\n",
              "      <td>1.000000</td>\n",
              "      <td>1.0</td>\n",
              "      <td>1.0</td>\n",
              "    </tr>\n",
              "    <tr>\n",
              "      <th>TT4</th>\n",
              "      <td>3007.0</td>\n",
              "      <td>108.454905</td>\n",
              "      <td>43.408647</td>\n",
              "      <td>2.0</td>\n",
              "      <td>85.0</td>\n",
              "      <td>104.000000</td>\n",
              "      <td>125.0</td>\n",
              "      <td>450.0</td>\n",
              "    </tr>\n",
              "    <tr>\n",
              "      <th>T4U_measured</th>\n",
              "      <td>3007.0</td>\n",
              "      <td>0.946791</td>\n",
              "      <td>0.224488</td>\n",
              "      <td>0.0</td>\n",
              "      <td>1.0</td>\n",
              "      <td>1.000000</td>\n",
              "      <td>1.0</td>\n",
              "      <td>1.0</td>\n",
              "    </tr>\n",
              "    <tr>\n",
              "      <th>FTI_measured</th>\n",
              "      <td>3007.0</td>\n",
              "      <td>0.947123</td>\n",
              "      <td>0.223824</td>\n",
              "      <td>0.0</td>\n",
              "      <td>1.0</td>\n",
              "      <td>1.000000</td>\n",
              "      <td>1.0</td>\n",
              "      <td>1.0</td>\n",
              "    </tr>\n",
              "    <tr>\n",
              "      <th>FTI</th>\n",
              "      <td>3007.0</td>\n",
              "      <td>115.040206</td>\n",
              "      <td>58.566137</td>\n",
              "      <td>0.0</td>\n",
              "      <td>92.0</td>\n",
              "      <td>107.000000</td>\n",
              "      <td>126.0</td>\n",
              "      <td>881.0</td>\n",
              "    </tr>\n",
              "    <tr>\n",
              "      <th>TBG_measured</th>\n",
              "      <td>3007.0</td>\n",
              "      <td>0.057200</td>\n",
              "      <td>0.232263</td>\n",
              "      <td>0.0</td>\n",
              "      <td>0.0</td>\n",
              "      <td>0.000000</td>\n",
              "      <td>0.0</td>\n",
              "      <td>1.0</td>\n",
              "    </tr>\n",
              "  </tbody>\n",
              "</table>\n",
              "</div>"
            ],
            "text/plain": [
              "                            count        mean  ...    75%    max\n",
              "age                        3007.0   51.350030  ...   64.0   98.0\n",
              "sex                        3007.0    0.295643  ...    1.0    1.0\n",
              "on_thyroxine               3007.0    0.148321  ...    0.0    1.0\n",
              "query_on_thyroxine         3007.0    0.018291  ...    0.0    1.0\n",
              "on_antithyroid_medication  3007.0    0.013967  ...    0.0    1.0\n",
              "thyroid_surgery            3007.0    0.034253  ...    0.0    1.0\n",
              "query_hypothyroid          3007.0    0.078151  ...    0.0    1.0\n",
              "query_hyperthyroid         3007.0    0.075491  ...    0.0    1.0\n",
              "pregnant                   3007.0    0.020286  ...    0.0    1.0\n",
              "sick                       3007.0    0.032258  ...    0.0    1.0\n",
              "tumor                      3007.0    0.013302  ...    0.0    1.0\n",
              "lithium                    3007.0    0.000665  ...    0.0    1.0\n",
              "goitre                     3007.0    0.031593  ...    0.0    1.0\n",
              "TSH_measured               3007.0    0.874958  ...    1.0    1.0\n",
              "TSH                        3007.0    5.823557  ...    5.3  530.0\n",
              "T3_measured                3007.0    0.800133  ...    1.0    1.0\n",
              "T3                         3007.0    1.906950  ...    2.2   10.2\n",
              "TT4_measured               3007.0    0.946458  ...    1.0    1.0\n",
              "TT4                        3007.0  108.454905  ...  125.0  450.0\n",
              "T4U_measured               3007.0    0.946791  ...    1.0    1.0\n",
              "FTI_measured               3007.0    0.947123  ...    1.0    1.0\n",
              "FTI                        3007.0  115.040206  ...  126.0  881.0\n",
              "TBG_measured               3007.0    0.057200  ...    0.0    1.0\n",
              "\n",
              "[23 rows x 8 columns]"
            ]
          },
          "metadata": {
            "tags": []
          },
          "execution_count": 177
        }
      ]
    },
    {
      "cell_type": "markdown",
      "metadata": {
        "id": "9c5ulCJL7So9"
      },
      "source": [
        "# **Saving Our Dataset**"
      ]
    },
    {
      "cell_type": "code",
      "metadata": {
        "id": "LNMqsJBO7ZFU"
      },
      "source": [
        "#Saving Our Clean Dataset\n",
        "df.to_csv('hypo.csv', index=False)"
      ],
      "execution_count": 180,
      "outputs": []
    },
    {
      "cell_type": "markdown",
      "metadata": {
        "id": "_v6gRsbB78Zs"
      },
      "source": [
        "# **4. Exploratory Data Analysis**"
      ]
    },
    {
      "cell_type": "code",
      "metadata": {
        "id": "5S1ea5F38C2c"
      },
      "source": [
        "df= pd.read_csv('hypo.csv')"
      ],
      "execution_count": 192,
      "outputs": []
    },
    {
      "cell_type": "code",
      "metadata": {
        "colab": {
          "base_uri": "https://localhost:8080/",
          "height": 224
        },
        "id": "4ukSIDCD8cu8",
        "outputId": "802a3d70-e330-4ed3-ea27-72129b116b7d"
      },
      "source": [
        "df.head()"
      ],
      "execution_count": 193,
      "outputs": [
        {
          "output_type": "execute_result",
          "data": {
            "text/html": [
              "<div>\n",
              "<style scoped>\n",
              "    .dataframe tbody tr th:only-of-type {\n",
              "        vertical-align: middle;\n",
              "    }\n",
              "\n",
              "    .dataframe tbody tr th {\n",
              "        vertical-align: top;\n",
              "    }\n",
              "\n",
              "    .dataframe thead th {\n",
              "        text-align: right;\n",
              "    }\n",
              "</style>\n",
              "<table border=\"1\" class=\"dataframe\">\n",
              "  <thead>\n",
              "    <tr style=\"text-align: right;\">\n",
              "      <th></th>\n",
              "      <th>status</th>\n",
              "      <th>age</th>\n",
              "      <th>sex</th>\n",
              "      <th>on_thyroxine</th>\n",
              "      <th>query_on_thyroxine</th>\n",
              "      <th>on_antithyroid_medication</th>\n",
              "      <th>thyroid_surgery</th>\n",
              "      <th>query_hypothyroid</th>\n",
              "      <th>query_hyperthyroid</th>\n",
              "      <th>pregnant</th>\n",
              "      <th>sick</th>\n",
              "      <th>tumor</th>\n",
              "      <th>lithium</th>\n",
              "      <th>goitre</th>\n",
              "      <th>TSH_measured</th>\n",
              "      <th>TSH</th>\n",
              "      <th>T3_measured</th>\n",
              "      <th>T3</th>\n",
              "      <th>TT4_measured</th>\n",
              "      <th>TT4</th>\n",
              "      <th>T4U_measured</th>\n",
              "      <th>T4U</th>\n",
              "      <th>FTI_measured</th>\n",
              "      <th>FTI</th>\n",
              "      <th>TBG_measured</th>\n",
              "    </tr>\n",
              "  </thead>\n",
              "  <tbody>\n",
              "    <tr>\n",
              "      <th>0</th>\n",
              "      <td>hypothyroid</td>\n",
              "      <td>72.0</td>\n",
              "      <td>1.0</td>\n",
              "      <td>0</td>\n",
              "      <td>0</td>\n",
              "      <td>0</td>\n",
              "      <td>0</td>\n",
              "      <td>0</td>\n",
              "      <td>0</td>\n",
              "      <td>0</td>\n",
              "      <td>0</td>\n",
              "      <td>0</td>\n",
              "      <td>0</td>\n",
              "      <td>0</td>\n",
              "      <td>1</td>\n",
              "      <td>30.0</td>\n",
              "      <td>1</td>\n",
              "      <td>0.6</td>\n",
              "      <td>1</td>\n",
              "      <td>15.0</td>\n",
              "      <td>1</td>\n",
              "      <td>1.48</td>\n",
              "      <td>1</td>\n",
              "      <td>10.0</td>\n",
              "      <td>0</td>\n",
              "    </tr>\n",
              "    <tr>\n",
              "      <th>1</th>\n",
              "      <td>hypothyroid</td>\n",
              "      <td>15.0</td>\n",
              "      <td>0.0</td>\n",
              "      <td>1</td>\n",
              "      <td>0</td>\n",
              "      <td>0</td>\n",
              "      <td>0</td>\n",
              "      <td>0</td>\n",
              "      <td>0</td>\n",
              "      <td>0</td>\n",
              "      <td>0</td>\n",
              "      <td>0</td>\n",
              "      <td>0</td>\n",
              "      <td>0</td>\n",
              "      <td>1</td>\n",
              "      <td>145.0</td>\n",
              "      <td>1</td>\n",
              "      <td>1.7</td>\n",
              "      <td>1</td>\n",
              "      <td>19.0</td>\n",
              "      <td>1</td>\n",
              "      <td>1.13</td>\n",
              "      <td>1</td>\n",
              "      <td>17.0</td>\n",
              "      <td>0</td>\n",
              "    </tr>\n",
              "    <tr>\n",
              "      <th>2</th>\n",
              "      <td>hypothyroid</td>\n",
              "      <td>24.0</td>\n",
              "      <td>1.0</td>\n",
              "      <td>0</td>\n",
              "      <td>0</td>\n",
              "      <td>0</td>\n",
              "      <td>0</td>\n",
              "      <td>0</td>\n",
              "      <td>0</td>\n",
              "      <td>0</td>\n",
              "      <td>0</td>\n",
              "      <td>0</td>\n",
              "      <td>0</td>\n",
              "      <td>0</td>\n",
              "      <td>1</td>\n",
              "      <td>0.0</td>\n",
              "      <td>1</td>\n",
              "      <td>0.2</td>\n",
              "      <td>1</td>\n",
              "      <td>4.0</td>\n",
              "      <td>1</td>\n",
              "      <td>1.00</td>\n",
              "      <td>1</td>\n",
              "      <td>0.0</td>\n",
              "      <td>0</td>\n",
              "    </tr>\n",
              "    <tr>\n",
              "      <th>3</th>\n",
              "      <td>hypothyroid</td>\n",
              "      <td>24.0</td>\n",
              "      <td>0.0</td>\n",
              "      <td>0</td>\n",
              "      <td>0</td>\n",
              "      <td>0</td>\n",
              "      <td>0</td>\n",
              "      <td>0</td>\n",
              "      <td>0</td>\n",
              "      <td>0</td>\n",
              "      <td>0</td>\n",
              "      <td>0</td>\n",
              "      <td>0</td>\n",
              "      <td>0</td>\n",
              "      <td>1</td>\n",
              "      <td>430.0</td>\n",
              "      <td>1</td>\n",
              "      <td>0.4</td>\n",
              "      <td>1</td>\n",
              "      <td>6.0</td>\n",
              "      <td>1</td>\n",
              "      <td>1.04</td>\n",
              "      <td>1</td>\n",
              "      <td>6.0</td>\n",
              "      <td>0</td>\n",
              "    </tr>\n",
              "    <tr>\n",
              "      <th>4</th>\n",
              "      <td>hypothyroid</td>\n",
              "      <td>77.0</td>\n",
              "      <td>1.0</td>\n",
              "      <td>0</td>\n",
              "      <td>0</td>\n",
              "      <td>0</td>\n",
              "      <td>0</td>\n",
              "      <td>0</td>\n",
              "      <td>0</td>\n",
              "      <td>0</td>\n",
              "      <td>0</td>\n",
              "      <td>0</td>\n",
              "      <td>0</td>\n",
              "      <td>0</td>\n",
              "      <td>1</td>\n",
              "      <td>7.3</td>\n",
              "      <td>1</td>\n",
              "      <td>1.2</td>\n",
              "      <td>1</td>\n",
              "      <td>57.0</td>\n",
              "      <td>1</td>\n",
              "      <td>1.28</td>\n",
              "      <td>1</td>\n",
              "      <td>44.0</td>\n",
              "      <td>0</td>\n",
              "    </tr>\n",
              "  </tbody>\n",
              "</table>\n",
              "</div>"
            ],
            "text/plain": [
              "        status   age  sex  on_thyroxine  ...   T4U  FTI_measured   FTI  TBG_measured\n",
              "0  hypothyroid  72.0  1.0             0  ...  1.48             1  10.0             0\n",
              "1  hypothyroid  15.0  0.0             1  ...  1.13             1  17.0             0\n",
              "2  hypothyroid  24.0  1.0             0  ...  1.00             1   0.0             0\n",
              "3  hypothyroid  24.0  0.0             0  ...  1.04             1   6.0             0\n",
              "4  hypothyroid  77.0  1.0             0  ...  1.28             1  44.0             0\n",
              "\n",
              "[5 rows x 25 columns]"
            ]
          },
          "metadata": {
            "tags": []
          },
          "execution_count": 193
        }
      ]
    },
    {
      "cell_type": "markdown",
      "metadata": {
        "id": "XEps0DVy88Oc"
      },
      "source": [
        "# Univariate Analysis"
      ]
    },
    {
      "cell_type": "code",
      "metadata": {
        "colab": {
          "base_uri": "https://localhost:8080/",
          "height": 663
        },
        "id": "ZcjEx7x98_U8",
        "outputId": "b9304dd8-fd7f-4d42-ab10-0f72d09a9d00"
      },
      "source": [
        "#Distribution of Female Vs Male in Our dataset\n",
        "plt.figure(figsize=(10,8), dpi=100)\n",
        "explode=(0.1,0)\n",
        "df.sex.value_counts().plot(kind='pie', explode=explode, shadow=True, autopct='%1.1f%%')\n",
        "plt.title('Distribution by Gender');"
      ],
      "execution_count": 194,
      "outputs": [
        {
          "output_type": "display_data",
          "data": {
            "image/png": "[encoded data removed]",
            "text/plain": [
              "<Figure size 1000x800 with 1 Axes>"
            ]
          },
          "metadata": {
            "tags": []
          }
        }
      ]
    },
    {
      "cell_type": "code",
      "metadata": {
        "id": "5qG6MkW--YOl"
      },
      "source": [
        "#0 represents Females while 1 represents male\n",
        "#There were more Female patients in the study than male patients"
      ],
      "execution_count": null,
      "outputs": []
    },
    {
      "cell_type": "code",
      "metadata": {
        "colab": {
          "base_uri": "https://localhost:8080/",
          "height": 663
        },
        "id": "Knk_0ow5_031",
        "outputId": "197ee8b4-e859-4fbe-e7ba-30cf2d331b2d"
      },
      "source": [
        "#Distribution of Patient Status\n",
        "plt.figure(figsize=(10,8), dpi=100)\n",
        "explode=(0.1,0)\n",
        "df.status.value_counts().plot(kind='pie', explode=explode, shadow=True, autopct='%1.1f%%')\n",
        "plt.title('Distribution of Patient Status');"
      ],
      "execution_count": 195,
      "outputs": [
        {
          "output_type": "display_data",
          "data": {
            "image/png": "[encoded data removed]",
            "text/plain": [
              "<Figure size 1000x800 with 1 Axes>"
            ]
          },
          "metadata": {
            "tags": []
          }
        }
      ]
    },
    {
      "cell_type": "code",
      "metadata": {
        "id": "tBA0dTmsBYBj"
      },
      "source": [
        "#We have more number of patients with a negative status than those who return \n",
        "# Positive Thyroid Test"
      ],
      "execution_count": null,
      "outputs": []
    },
    {
      "cell_type": "code",
      "metadata": {
        "id": "k3rLTvjyBKET"
      },
      "source": [
        "#Empirical Cumulative Frequency Distribution plots are a powerful way of exploring\n",
        "#whether our data follows a normal distribution without succumbing to binning bias\n",
        "#prevalent in the use of Histograms\n",
        "\n",
        "# Create a function for computing and plotting the ECDF with default parameters\n",
        "def plot_ecdf(data,title = \"Empirical CUmulative Distribution Function Plot\", xlabel = 'Data Values', ylabel = 'Percentage'):\n",
        "    \n",
        "    \"\"\" \n",
        "    Function to plot ecdf taking a column of data as input.\n",
        "    \"\"\"\n",
        "    xaxis = np.sort(data)\n",
        "    yaxis = np.arange(1, len(data)+1)/len(data)\n",
        "    plt.plot(xaxis,yaxis,linestyle='none',marker='.')\n",
        "    plt.title(title)\n",
        "    plt.xlabel(xlabel)\n",
        "    plt.ylabel(ylabel)\n",
        "    plt.margins(0.02)"
      ],
      "execution_count": 196,
      "outputs": []
    },
    {
      "cell_type": "code",
      "metadata": {
        "id": "GfqDl7vFB1hz"
      },
      "source": [
        "# Creating our Empirical Cumulative Frequency Distribution function\n",
        "def ecdf(data):\n",
        "    \"\"\" \n",
        "    This function creates the x and y axis for an ecdf\n",
        "    plot given the data as input.\n",
        "    \"\"\"\n",
        "    xaxis = np.sort(data)\n",
        "    yaxis = np.arange(1,len(data)+1)/len(data)\n",
        "    return xaxis, yaxis"
      ],
      "execution_count": 197,
      "outputs": []
    },
    {
      "cell_type": "code",
      "metadata": {
        "colab": {
          "base_uri": "https://localhost:8080/",
          "height": 715
        },
        "id": "kMxuVI_YB9E9",
        "outputId": "eb9868a5-ece2-4f30-b5a8-d931105bf914"
      },
      "source": [
        "# Creating the xaxis and yaxis for our ecdf on age column\n",
        "x,y = ecdf(df['age'])\n",
        "\n",
        "# Plotting our ecdf\n",
        "plt.figure(figsize=(15,8), dpi=100)\n",
        "plt.plot(x,y,linestyle='none',marker='.')\n",
        "plt.title('ECDF of Age Distribution')\n",
        "plt.xlabel('Age')\n",
        "plt.ylabel('Percent')\n",
        "plt.margins(0.03);"
      ],
      "execution_count": 198,
      "outputs": [
        {
          "output_type": "display_data",
          "data": {
            "image/png": "[encoded data removed]",
            "text/plain": [
              "<Figure size 1500x800 with 1 Axes>"
            ]
          },
          "metadata": {
            "tags": []
          }
        }
      ]
    },
    {
      "cell_type": "code",
      "metadata": {
        "colab": {
          "base_uri": "https://localhost:8080/"
        },
        "id": "bPA3VNxjCT-H",
        "outputId": "7fc30930-3ecd-4ec7-d91c-1dcd03b77509"
      },
      "source": [
        "#The age column doesn't quite follow a normal distribution.\n",
        "#We can still pick age 51 as the mean age. "
      ],
      "execution_count": 199,
      "outputs": [
        {
          "output_type": "execute_result",
          "data": {
            "text/plain": [
              "51.3500302753277"
            ]
          },
          "metadata": {
            "tags": []
          },
          "execution_count": 199
        }
      ]
    },
    {
      "cell_type": "markdown",
      "metadata": {
        "id": "C2Qq4fYSC5ti"
      },
      "source": [
        "# Bivariate Analysis"
      ]
    },
    {
      "cell_type": "code",
      "metadata": {
        "colab": {
          "base_uri": "https://localhost:8080/",
          "height": 715
        },
        "id": "B6yp4nHSDADS",
        "outputId": "2f465035-bc2a-4db0-df67-1f71f34519be"
      },
      "source": [
        "#ECDF of Price Vs Waterfront\n",
        "pregnant= df.pregnant.unique()\n",
        "plt.figure(figsize=(15,8), dpi=100)\n",
        "plot_ecdf(df['age'][df.pregnant==0])\n",
        "plot_ecdf(df['age'][df.pregnant==1])\n",
        "plt.legend(labels=pregnant[::]);"
      ],
      "execution_count": 200,
      "outputs": [
        {
          "output_type": "display_data",
          "data": {
            "image/png": "[encoded data removed]",
            "text/plain": [
              "<Figure size 1500x800 with 1 Axes>"
            ]
          },
          "metadata": {
            "tags": []
          }
        }
      ]
    }
  ]
}